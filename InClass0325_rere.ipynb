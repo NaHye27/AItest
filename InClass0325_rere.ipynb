{
 "cells": [
  {
   "cell_type": "code",
   "execution_count": 3,
   "id": "75fdcb37-a299-4a04-8cce-c0f340b16685",
   "metadata": {},
   "outputs": [
    {
     "name": "stdout",
     "output_type": "stream",
     "text": [
      "5! = 60\n"
     ]
    }
   ],
   "source": [
    "# 4-29\n",
    "# factorial로 코드 짜기 시험 가능\n",
    "# for문을 사용하지 않아도 반복 가능\n",
    "\n",
    "def factorial(n):\n",
    "    if n<=2:\n",
    "        return 1\n",
    "    else:\n",
    "        return n * factorial(n-1)\n",
    "\n",
    "n=5\n",
    "print('{}! = {}'.format(n, factorial(n)))"
   ]
  },
  {
   "cell_type": "code",
   "execution_count": 4,
   "id": "d1e5cd86-c865-4b36-bcb5-99e9e45025e4",
   "metadata": {},
   "outputs": [
    {
     "name": "stdout",
     "output_type": "stream",
     "text": [
      "120\n"
     ]
    }
   ],
   "source": [
    "#\n",
    "def factorial(n):\n",
    "    if n<=1:\n",
    "        return 1\n",
    "    else:\n",
    "        return n*factorial(n-1)\n",
    "print(factorial(5))"
   ]
  },
  {
   "cell_type": "code",
   "execution_count": 5,
   "id": "89812414-d51d-459f-91f0-8637bd211de1",
   "metadata": {},
   "outputs": [
    {
     "name": "stdout",
     "output_type": "stream",
     "text": [
      "120\n"
     ]
    }
   ],
   "source": [
    "#\n",
    "def factorial2(n):\n",
    "    tmp = 1\n",
    "    for i in range(n):\n",
    "        tmp *= (i+1)\n",
    "    return tmp\n",
    "print(factorial2(5))"
   ]
  },
  {
   "cell_type": "code",
   "execution_count": 6,
   "id": "d003d4a1-c9ae-43e0-95a3-fc0f10502714",
   "metadata": {},
   "outputs": [
    {
     "name": "stdout",
     "output_type": "stream",
     "text": [
      "5\n"
     ]
    }
   ],
   "source": [
    "# 피보나치 수열\n",
    "# 0, 1, 1, 2, 3, 5, 8, 13, 21, ... \n",
    "# 4-30\n",
    "def fibonacci(n):\n",
    "    if n<=1:\n",
    "        return n\n",
    "    else:\n",
    "        return fibonacci(n-1) + fibonacci(n-2)\n",
    "\n",
    "print(fibonacci(5))"
   ]
  },
  {
   "cell_type": "code",
   "execution_count": 7,
   "id": "a39535be-421d-4eba-8387-5e8d4b38b853",
   "metadata": {},
   "outputs": [
    {
     "name": "stdin",
     "output_type": "stream",
     "text": [
      "숫자를 입력하세요:  1 2 3\n"
     ]
    },
    {
     "name": "stdout",
     "output_type": "stream",
     "text": [
      "1 2 3\n"
     ]
    }
   ],
   "source": [
    "# 4.8.1\n",
    "a,b,c = map(int, input('숫자를 입력하세요: ').split())\n",
    "print(a,b,c)"
   ]
  },
  {
   "cell_type": "code",
   "execution_count": 9,
   "id": "4347e0fb-728e-4158-94a8-46fb7963b094",
   "metadata": {},
   "outputs": [
    {
     "name": "stdin",
     "output_type": "stream",
     "text": [
      "숫자를 입력하세요:  1,2,3\n"
     ]
    },
    {
     "name": "stdout",
     "output_type": "stream",
     "text": [
      "<class 'list'>\n",
      "[1, 2, 3]\n"
     ]
    }
   ],
   "source": [
    "# 시험 가능성 있음\n",
    "# list로 변환\n",
    "a_list = list(map(int,input('숫자를 입력하세요: ').split(',')))\n",
    "print(type(a_list))\n",
    "print(a_list)"
   ]
  },
  {
   "cell_type": "code",
   "execution_count": 10,
   "id": "abad026f-8559-4ca1-9cbd-4c394ea87dfc",
   "metadata": {},
   "outputs": [
    {
     "data": {
      "text/plain": [
       "['1', '2', '3']"
      ]
     },
     "execution_count": 10,
     "metadata": {},
     "output_type": "execute_result"
    }
   ],
   "source": [
    "#\n",
    "'1,2,3'.split(',')\n"
   ]
  },
  {
   "cell_type": "code",
   "execution_count": 11,
   "id": "f4d62e84-99e1-4a00-8294-fcdfdf7c495f",
   "metadata": {},
   "outputs": [
    {
     "name": "stdin",
     "output_type": "stream",
     "text": [
      "숫자를 입력하세요:  2.25,5.36\n"
     ]
    },
    {
     "name": "stdout",
     "output_type": "stream",
     "text": [
      "<class 'list'>\n",
      "[2.25, 5.36]\n"
     ]
    }
   ],
   "source": [
    "# float값을 적용\n",
    "a_list = list(map(float,input('숫자를 입력하세요: ').split(',')))\n",
    "print(type(a_list))\n",
    "print(a_list)"
   ]
  },
  {
   "cell_type": "code",
   "execution_count": 12,
   "id": "c653f011-a432-4712-8d8e-40f590f03c77",
   "metadata": {},
   "outputs": [
    {
     "name": "stdout",
     "output_type": "stream",
     "text": [
      "HELLO\n"
     ]
    }
   ],
   "source": [
    "# 대문자로 변환\n",
    "a = 'hello'\n",
    "b = a.upper()\n",
    "print(b)"
   ]
  },
  {
   "cell_type": "code",
   "execution_count": 13,
   "id": "e4d57c9a-0867-43b7-987c-63eaee8a2536",
   "metadata": {},
   "outputs": [
    {
     "data": {
      "text/plain": [
       "'10 Text'"
      ]
     },
     "execution_count": 13,
     "metadata": {},
     "output_type": "execute_result"
    }
   ],
   "source": [
    "# format 이용\n",
    "'{} Text'.format(10)"
   ]
  },
  {
   "cell_type": "code",
   "execution_count": 14,
   "id": "7e89edd1-270f-484f-a439-715d5032666b",
   "metadata": {},
   "outputs": [
    {
     "data": {
      "text/plain": [
       "'400 my 100.000000 Test'"
      ]
     },
     "execution_count": 14,
     "metadata": {},
     "output_type": "execute_result"
    }
   ],
   "source": [
    "#\n",
    "'{2:d} {0:s} {1:f} Test'.format('my',100,400)"
   ]
  },
  {
   "cell_type": "code",
   "execution_count": 15,
   "id": "e8d2711c-8444-4942-9cd9-04e814c9d951",
   "metadata": {},
   "outputs": [
    {
     "name": "stdout",
     "output_type": "stream",
     "text": [
      "1 번째 손님은 오늘의 100 번째 손님입니다.\n",
      "2 번째 손님은 오늘의 101 번째 손님입니다.\n",
      "3 번째 손님은 오늘의 102 번째 손님입니다.\n",
      "4 번째 손님은 오늘의 103 번째 손님입니다.\n",
      "5 번째 손님은 오늘의 104 번째 손님입니다.\n",
      "6 번째 손님은 오늘의 105 번째 손님입니다.\n",
      "7 번째 손님은 오늘의 106 번째 손님입니다.\n",
      "8 번째 손님은 오늘의 107 번째 손님입니다.\n",
      "9 번째 손님은 오늘의 108 번째 손님입니다.\n",
      "10 번째 손님은 오늘의 109 번째 손님입니다.\n"
     ]
    }
   ],
   "source": [
    "#\n",
    "a = '{2:d} {0:s} {1:f} Test'.format('my',100,400)\n",
    "for i in range(10):\n",
    "    a = '{} 번째 손님은 오늘의 {} 번째 손님입니다.'.format(i+1, i+100)\n",
    "    print(a)"
   ]
  },
  {
   "cell_type": "code",
   "execution_count": null,
   "id": "2f57f4c9-191d-4172-9a6f-fb63bd46513e",
   "metadata": {},
   "outputs": [],
   "source": []
  }
 ],
 "metadata": {
  "kernelspec": {
   "display_name": "Python 3 (ipykernel)",
   "language": "python",
   "name": "python3"
  },
  "language_info": {
   "codemirror_mode": {
    "name": "ipython",
    "version": 3
   },
   "file_extension": ".py",
   "mimetype": "text/x-python",
   "name": "python",
   "nbconvert_exporter": "python",
   "pygments_lexer": "ipython3",
   "version": "3.11.7"
  }
 },
 "nbformat": 4,
 "nbformat_minor": 5
}
