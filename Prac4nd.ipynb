{
 "cells": [
  {
   "cell_type": "markdown",
   "id": "53baf55c-6760-4b53-9ed7-1765507d2a3c",
   "metadata": {},
   "source": [
    "으뜸파이썬 4장 연습문제"
   ]
  },
  {
   "cell_type": "code",
   "execution_count": 1,
   "id": "50547096-5a80-4b1a-95d0-b294a5d3778d",
   "metadata": {},
   "outputs": [
    {
     "name": "stdout",
     "output_type": "stream",
     "text": [
      "환영합니다.\n",
      "환영합니다.\n"
     ]
    }
   ],
   "source": [
    "#4.1\n",
    "def my_greet():\n",
    "    print('환영합니다.')\n",
    "\n",
    "my_greet()\n",
    "my_greet()"
   ]
  },
  {
   "cell_type": "code",
   "execution_count": 2,
   "id": "b95b9c7c-7e47-4e54-9fa7-e82f1df3f297",
   "metadata": {},
   "outputs": [
    {
     "name": "stdout",
     "output_type": "stream",
     "text": [
      "100과 200 중 큰 수는 : 200\n",
      "100과 200 중 작은 수는 : 100\n"
     ]
    }
   ],
   "source": [
    "#4.3\n",
    "def max2(m,n):\n",
    "    if m>n:\n",
    "        return m\n",
    "    else :\n",
    "        return n\n",
    "\n",
    "def min2(m,n):\n",
    "    if m>n:\n",
    "        return n\n",
    "    else :\n",
    "        return m\n",
    "\n",
    "print('100과 200 중 큰 수는 :',max2(100,200))\n",
    "print('100과 200 중 작은 수는 :',min2(100,200))"
   ]
  },
  {
   "cell_type": "code",
   "execution_count": 8,
   "id": "479d1e7b-8c2c-40e0-b168-5236ada217e2",
   "metadata": {},
   "outputs": [
    {
     "name": "stdout",
     "output_type": "stream",
     "text": [
      "1 인치 = 2.54 센티미터\n",
      "2 인치 = 5.08 센티미터\n",
      "3 인치 = 7.62 센티미터\n",
      "4 인치 = 10.16 센티미터\n",
      "5 인치 = 12.7 센티미터\n"
     ]
    }
   ],
   "source": [
    "#4.5\n",
    "def inch2cm(inch):\n",
    "    return inch*2.54\n",
    "\n",
    "for inch in range(1,6):\n",
    "    a=('{} 인치 = {} 센티미터'.format(inch,inch2cm(inch)))\n",
    "    print(a)"
   ]
  },
  {
   "cell_type": "code",
   "execution_count": 16,
   "id": "676496b8-ef15-4340-ad5e-743007978630",
   "metadata": {},
   "outputs": [
    {
     "name": "stdin",
     "output_type": "stream",
     "text": [
      "세 수를 입력하세요:  10 30 20\n"
     ]
    },
    {
     "name": "stdout",
     "output_type": "stream",
     "text": [
      "10 30 20 의 평균값은 20.0\n",
      "10 30 20 의 최댓값은 30\n",
      "10 30 20 의 최솟값은 10\n"
     ]
    }
   ],
   "source": [
    "#4.7\n",
    "a,b,c = map(int, input('세 수를 입력하세요: ').split())\n",
    "\n",
    "def mean3(a,b,c):\n",
    "    return (a+b+c)/3\n",
    "def max3(a,b,c):\n",
    "    if a>b and a>c:\n",
    "        return a\n",
    "    elif b>a and b>c:\n",
    "        return b\n",
    "    else:\n",
    "        return c\n",
    "def min3(a,b,c):\n",
    "    if a<b and a<c:\n",
    "        return a\n",
    "    elif b<a and b<c:\n",
    "        return b\n",
    "    else:\n",
    "        return c\n",
    "\n",
    "print(a,b,c,'의 평균값은',mean3(a,b,c))\n",
    "print(a,b,c,'의 최댓값은',max3(a,b,c))\n",
    "print(a,b,c,'의 최솟값은',min3(a,b,c))"
   ]
  },
  {
   "cell_type": "code",
   "execution_count": 15,
   "id": "aaf0d57c-c6e2-4dfe-8fb5-b8f0faa22de4",
   "metadata": {},
   "outputs": [
    {
     "name": "stdin",
     "output_type": "stream",
     "text": [
      "숫자를 입력하세요:  3 45 32 5 7 8 4 44 5 90 17\n"
     ]
    },
    {
     "name": "stdout",
     "output_type": "stream",
     "text": [
      "평균값은 23.636363636363637\n",
      "최댓값은 90\n",
      "최솟값은 3\n"
     ]
    }
   ],
   "source": [
    "#4.9\n",
    "nums = list(map(int,input('숫자를 입력하세요: ').split(' ')))\n",
    "\n",
    "def mean_of_n(nums):\n",
    "    a= sum(nums)/len(nums)\n",
    "    return a\n",
    "    \n",
    "def max_of_n(nums):\n",
    "    b= max(nums)\n",
    "    return b\n",
    "    \n",
    "def min_of_n(nums):\n",
    "    c= min(nums)\n",
    "    return c\n",
    "\n",
    "print('평균값은',mean_of_n(nums))\n",
    "print('최댓값은',max_of_n(nums))\n",
    "print('최솟값은',min_of_n(nums))"
   ]
  },
  {
   "cell_type": "code",
   "execution_count": 19,
   "id": "f2051e37-400a-40b3-b65e-e738a2af0c5f",
   "metadata": {},
   "outputs": [
    {
     "name": "stdin",
     "output_type": "stream",
     "text": [
      "x1 좌표를 입력하세요:  0\n",
      "y1 좌표를 입력하세요:  0\n",
      "x2 좌표를 입력하세요:  3\n",
      "y2 좌표를 입력하세요:  4\n"
     ]
    },
    {
     "name": "stdout",
     "output_type": "stream",
     "text": [
      "직각삼각형의 면적은 : 6.0\n"
     ]
    }
   ],
   "source": [
    "#4.11\n",
    "x1 =int( input('x1 좌표를 입력하세요: '))\n",
    "y1 =int( input('y1 좌표를 입력하세요: '))\n",
    "x2 =int( input('x2 좌표를 입력하세요: '))\n",
    "y2 =int( input('y2 좌표를 입력하세요: '))\n",
    "\n",
    "def area(x1,y1,x2,y2):\n",
    "    a= x2-x1\n",
    "    b= y2-y1\n",
    "    c= (a*b)/2\n",
    "    return c\n",
    "\n",
    "print('직각삼각형의 면적은 :',area(x1,y1,x2,y2))"
   ]
  },
  {
   "cell_type": "code",
   "execution_count": 20,
   "id": "51ff7823-c1bf-416f-9bfb-359f86c96e47",
   "metadata": {},
   "outputs": [
    {
     "name": "stdout",
     "output_type": "stream",
     "text": [
      "모서리의 길이가 12인 정육면체 : 1728\n",
      "모서리의 길이가 20인 정육면체 : 8000\n",
      "가로, 세로, 길이가 각각 3, 5, 6인 직육면체 : 90\n",
      "반지름과 높이가 각각 20, 10인 원뿔 : 4186.666666666666\n",
      "반지름이 15인 구 : 14130.0\n",
      "반지름과 높이가 각각 20, 10인 원기둥 : 12560.0\n"
     ]
    }
   ],
   "source": [
    "#4.13\n",
    "#정육면체\n",
    "def jong(s):\n",
    "    a=s**3\n",
    "    return a\n",
    "\n",
    "print('모서리의 길이가 12인 정육면체 :',jong(12))\n",
    "print('모서리의 길이가 20인 정육면체 :',jong(20))\n",
    "\n",
    "#직육면체\n",
    "def jig(w,h,l):\n",
    "    b=w*h*l\n",
    "    return b\n",
    "\n",
    "print('가로, 세로, 길이가 각각 3, 5, 6인 직육면체 :',jig(3,5,6))\n",
    "\n",
    "#원뿔\n",
    "def wonb(r,h):\n",
    "    c=(1/3)*3.14*r**2*h\n",
    "    return c\n",
    "\n",
    "print('반지름과 높이가 각각 20, 10인 원뿔 :',wonb(20,10))\n",
    "\n",
    "#구\n",
    "def gu(r):\n",
    "    d=(4/3)*3.14*r**3\n",
    "    return d\n",
    "\n",
    "print('반지름이 15인 구 :',gu(15))\n",
    "    \n",
    "#원기둥\n",
    "def wong(r,h):\n",
    "    e=3.14*r**2*h\n",
    "    return e\n",
    "\n",
    "print('반지름과 높이가 각각 20, 10인 원기둥 :',wong(20,10))"
   ]
  },
  {
   "cell_type": "code",
   "execution_count": 29,
   "id": "261b5ce9-3971-4e79-8a91-1f1ac1b54d8a",
   "metadata": {},
   "outputs": [
    {
     "name": "stdin",
     "output_type": "stream",
     "text": [
      "숫자를 입력하세요:  9,8,7,6,5,4,3\n"
     ]
    },
    {
     "name": "stdout",
     "output_type": "stream",
     "text": [
      "결과 : [3, 4, 5, 6, 7, 8, 9]\n"
     ]
    }
   ],
   "source": [
    "#4.15\n",
    "def my_sort(nums):\n",
    "    nums.sort()\n",
    "    return nums\n",
    "\n",
    "nums = list(map(int,input('숫자를 입력하세요: ').split(',')))\n",
    "sorted_n=my_sort(nums)\n",
    "\n",
    "print('결과 :',sorted_n)"
   ]
  },
  {
   "cell_type": "code",
   "execution_count": 5,
   "id": "eca1612a-6baa-4820-8669-b687cc04bf0c",
   "metadata": {},
   "outputs": [
    {
     "name": "stdout",
     "output_type": "stream",
     "text": [
      "10에서 20까지의 정수의 합 : 165\n",
      "40에서 100까지의 정수의 합 : 4270\n"
     ]
    }
   ],
   "source": [
    "#4.17\n",
    "def sum_range(n1,n2):\n",
    "    result = 0\n",
    "    for n in range(n1,n2+1):\n",
    "        result += n\n",
    "    return result\n",
    "\n",
    "print('{}에서 {}까지의 정수의 합 : {}'.format(10,20,sum_range(10,20)))\n",
    "print('{}에서 {}까지의 정수의 합 : {}'.format(40,100,sum_range(40,100)))"
   ]
  },
  {
   "cell_type": "code",
   "execution_count": 9,
   "id": "1a533e4c-970c-4929-9f3c-1648dffc07be",
   "metadata": {},
   "outputs": [
    {
     "name": "stdin",
     "output_type": "stream",
     "text": [
      "fibo(n)의 n을 입력하세요: 4\n"
     ]
    },
    {
     "name": "stdout",
     "output_type": "stream",
     "text": [
      "fibo4 = 5\n"
     ]
    }
   ],
   "source": [
    "#4.19 피보나치 수열\n",
    "def fibo(n):\n",
    "    if n<=1:\n",
    "        return 1\n",
    "    else:\n",
    "        return fibo(n-1) + fibo(n-2)\n",
    "\n",
    "f=int(input('fibo(n)의 n을 입력하세요:'))\n",
    "print('fibo{} = {}'.format(f,fibo(f)))\n"
   ]
  },
  {
   "cell_type": "code",
   "execution_count": 16,
   "id": "173f6dd1-5114-4a2f-8fca-6192297edf27",
   "metadata": {},
   "outputs": [
    {
     "name": "stdin",
     "output_type": "stream",
     "text": [
      "주민등록번호 첫 6숫자 형식 입력: 011123\n"
     ]
    },
    {
     "name": "stdout",
     "output_type": "stream",
     "text": [
      "2001년 11월 23일\n"
     ]
    }
   ],
   "source": [
    "#4.21 주민등록번호\n",
    "old= input('주민등록번호 첫 6숫자 형식 입력:') #int를 사용하지 않는 이유\n",
    "if int(old[0:2]) >= 50:\n",
    "    year= '19'+old[0:2] #여기서 문자열과 조합을하기 때문\n",
    "else:\n",
    "    year= '20'+old[0:2]\n",
    "\n",
    "print('{}년 {}월 {}일'.format(year, old[2:4], old[4:6]))"
   ]
  },
  {
   "cell_type": "code",
   "execution_count": 19,
   "id": "78c04fc6-80c9-4b74-9a94-2876d2ff589c",
   "metadata": {},
   "outputs": [
    {
     "name": "stdin",
     "output_type": "stream",
     "text": [
      "반지름을 입력하시오: 6\n"
     ]
    },
    {
     "name": "stdout",
     "output_type": "stream",
     "text": [
      "넓이 : 113.09733552923255, 둘레 : 37.69911184307752\n"
     ]
    },
    {
     "name": "stdin",
     "output_type": "stream",
     "text": [
      "반지름을 입력하시오: 22\n"
     ]
    },
    {
     "name": "stdout",
     "output_type": "stream",
     "text": [
      "넓이 : 1520.53084433746, 둘레 : 138.23007675795088\n"
     ]
    },
    {
     "name": "stdin",
     "output_type": "stream",
     "text": [
      "반지름을 입력하시오: 4\n"
     ]
    },
    {
     "name": "stdout",
     "output_type": "stream",
     "text": [
      "넓이 : 50.26548245743669, 둘레 : 25.132741228718345\n"
     ]
    },
    {
     "name": "stdin",
     "output_type": "stream",
     "text": [
      "반지름을 입력하시오: -1\n"
     ]
    },
    {
     "name": "stdout",
     "output_type": "stream",
     "text": [
      "프로그램을 종료합니다.\n"
     ]
    }
   ],
   "source": [
    "#4.23\n",
    "import math\n",
    "\n",
    "Pi = math.pi\n",
    "def area_and_circumference(r):\n",
    "    area= Pi*r**2 #math.pi는 파이썬의 math 모듈에 있는 상수\n",
    "    circumference= 2*Pi*r\n",
    "    return area,circumference\n",
    "\n",
    "while True:\n",
    "    r1=int(input('반지름을 입력하시오:'))\n",
    "    if r1<0:\n",
    "        print('프로그램을 종료합니다.')\n",
    "        break\n",
    "    ans=area_and_circumference(r1)\n",
    "    print('넓이 : {}, 둘레 : {}'.format(ans[0],ans[1]))\n"
   ]
  },
  {
   "cell_type": "code",
   "execution_count": 30,
   "id": "0cf3b665-ee77-421e-b483-eeed7a898022",
   "metadata": {},
   "outputs": [
    {
     "name": "stdout",
     "output_type": "stream",
     "text": [
      "Kang Young Min(은)는 KANGYOUNGMIN(으)로 수정됨\n",
      " Kang Young-Min(은)는 KANGYOUNGMIN(으)로 수정됨\n",
      "Park Dong Min(은)는 PARKDONGMIN(으)로 수정됨\n",
      " Park Dong-Min(은)는 PARKDONGMIN(으)로 수정됨\n",
      "KANGYOUNGMIN : 3 개의 N이 나타남\n",
      "KANGYOUNGMIN : 3 개의 N이 나타남\n",
      "PARKDONGMIN : 2 개의 N이 나타남\n",
      "PARKDONGMIN : 2 개의 N이 나타남\n"
     ]
    }
   ],
   "source": [
    "#4.15 공백없는 대문자+N의 수.\n",
    "s1= 'Kang Young Min'\n",
    "s2= ' Kang Young-Min'\n",
    "s3= 'Park Dong Min'\n",
    "s4= ' Park Dong-Min'\n",
    "List=[s1,s2,s3,s4]\n",
    "\n",
    "for i in range(4):\n",
    "    re=List[i].replace('-','') #리스트 안의 요소(i)가 반복되고 처음 부를 때만 필요!\n",
    "    re=re.replace(' ','')\n",
    "    re=re.upper()\n",
    "    print('{}(은)는 {}(으)로 수정됨'.format(List[i],re))\n",
    "    List[i]=re #List의 i번째 요소를 re로 저장.\n",
    "\n",
    "for i in List:\n",
    "    c= i.count('N')\n",
    "    print('{} : {} 개의 N이 나타남'.format(i,c))\n",
    "\n",
    "# for i in List:를 사용하면 i가 리스트 List의 요소 자체가 되므로, \n",
    "#i는 각 요소의 값이 됩니다. \n",
    "#그러나 count()는 문자열을 입력받아야 합니다. \n",
    "#그러므로 List의 각 요소를 count() 메서드에 직접 사용하는 것은 잘못된 접근입니다.\n",
    "'''for i in List:\n",
    "    c= List[i].count('N')\n",
    "    print('{} : {} 개의 N이 나타남'.format(List[i],c))'''\n"
   ]
  },
  {
   "cell_type": "code",
   "execution_count": 31,
   "id": "163c0529-90c1-4000-996f-9b7ae690e897",
   "metadata": {},
   "outputs": [
    {
     "name": "stdin",
     "output_type": "stream",
     "text": [
      "1보다 작고 0보다 큰 소수를 입력하세요:  0.0732\n"
     ]
    },
    {
     "name": "stdout",
     "output_type": "stream",
     "text": [
      "가장 가까운 단위분수는 1/14이며, 이 값은 0.07142857142857142입니다.\n"
     ]
    }
   ],
   "source": [
    "#4.27\n",
    "def unit_fraction(frac):\n",
    "    n = int(1/frac) #단위함수로 변환시키려 역수+정수로 저장.\n",
    "    r1 = 1/n\n",
    "    r2 = 1/(n+1)\n",
    "    if abs(r1 - frac) < abs(r2 - frac): #절대값(absolute value)을 반환하는 파이썬의 내장 함수고 부호 무시.\n",
    "        return n\n",
    "    else:\n",
    "        return n + 1\n",
    "num = float(input('1보다 작고 0보다 큰 소수를 입력하세요: ')) #실수로 num에 저장.\n",
    "n = unit_fraction(num) #함수에 돌리기.\n",
    "print('가장 가까운 단위분수는 1/{}이며, 이 값은 {}입니다.'.format(n, 1/n)) #가까운 단위분수의 소수값.\n"
   ]
  },
  {
   "cell_type": "code",
   "execution_count": null,
   "id": "ece5d50d-e09e-4c07-8a72-10cdd5cdd322",
   "metadata": {},
   "outputs": [],
   "source": []
  }
 ],
 "metadata": {
  "kernelspec": {
   "display_name": "Python 3 (ipykernel)",
   "language": "python",
   "name": "python3"
  },
  "language_info": {
   "codemirror_mode": {
    "name": "ipython",
    "version": 3
   },
   "file_extension": ".py",
   "mimetype": "text/x-python",
   "name": "python",
   "nbconvert_exporter": "python",
   "pygments_lexer": "ipython3",
   "version": "3.11.7"
  }
 },
 "nbformat": 4,
 "nbformat_minor": 5
}
