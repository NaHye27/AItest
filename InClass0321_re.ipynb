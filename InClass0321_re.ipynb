{
 "cells": [
  {
   "cell_type": "code",
   "execution_count": 4,
   "id": "554652f0-5737-4cdc-8882-515f9f3d6799",
   "metadata": {},
   "outputs": [
    {
     "name": "stdout",
     "output_type": "stream",
     "text": [
      "7\n",
      "21\n",
      "314.1592653589793 62.83185307179586\n",
      "60\n",
      "150\n",
      "3 개의 인자  [10, 20, 30]\n",
      "합계 : 60 평균 : 20.0\n",
      "5 개의 인자  [10, 20, 30, 40, 50]\n",
      "합계 : 150 평균 : 30.0\n"
     ]
    }
   ],
   "source": [
    "def plus(a,b):\n",
    "    c=a+b\n",
    "    return print(c)\n",
    "\n",
    "d= plus(3,4) #이부분이 7이 되어서 d가 7이 됨.\n",
    "\n",
    "\n",
    "a=3  # d=pius(4,7)로 대체가 가능함.\n",
    "b=4\n",
    "c=a+b\n",
    "d=c\n",
    "\n",
    "#진약수의 합을 계산하는 식\n",
    "\n",
    "def hyacsu(a):#a라는 숫자를 받아 약수를 더하는 함수\n",
    "    hap=0\n",
    "    for m in range(1,a):\n",
    "        if a%m==0:\n",
    "            hap+=m\n",
    "    return hap #반드시 해야 값이 나옴.\n",
    "\n",
    "d= hyacsu(18) #print(hyacsu(18))로 바꿀 수 있다.\n",
    "print(d)\n",
    "\n",
    "# 두개의 값 return 다시해~~~~~~~~~~~~~\n",
    "import numpy as np\n",
    "np.pi #원주율\n",
    "\n",
    "def circle_area_circum(radius):\n",
    "    a=radius*radius*np.pi\n",
    "    b=2*np.pi*radius\n",
    "    return a,b\n",
    "\n",
    "a,b= circle_area_circum(10)\n",
    "print(a,b)\n",
    "\n",
    "#아니면\n",
    "def circle_area_circum(radius):\n",
    "    return np.pi*radius**2, 2*np.pi*radius\n",
    "\n",
    "#여러개의 인풋 코드\n",
    "def sum_nums(*numbers):\n",
    "    result = 0\n",
    "    for n in numbers:\n",
    "        result += n\n",
    "    return result\n",
    "print(sum_nums(10, 20, 30)) # 10, 20, 30 인자들의 합을 출력\n",
    "print(sum_nums(10, 20, 30, 40, 50))\n",
    "\n",
    "def sum_nums(*numbers):\n",
    "    result = 0\n",
    "    for n in numbers:\n",
    "        result += n\n",
    "        mean=result/len(numbers)\n",
    "    return result,mean\n",
    "a,b=sum_nums(10,20,30)\n",
    "print('3 개의 인자 ', [10,20,30]) #,뒤에 numbers써도 오류뜨는 이유는 밖에 있어서!\n",
    "print(\"합계 :\",a,\"평균 :\",b)\n",
    "\n",
    "c,d=sum_nums(10,20,30,40,50,)\n",
    "print('5 개의 인자 ', [10,20,30,40,50])\n",
    "print(\"합계 :\",c,\"평균 :\",d)"
   ]
  },
  {
   "cell_type": "code",
   "execution_count": null,
   "id": "09e19ced-2ebd-4441-9f9e-115f50b04aa0",
   "metadata": {},
   "outputs": [],
   "source": []
  }
 ],
 "metadata": {
  "kernelspec": {
   "display_name": "Python 3 (ipykernel)",
   "language": "python",
   "name": "python3"
  },
  "language_info": {
   "codemirror_mode": {
    "name": "ipython",
    "version": 3
   },
   "file_extension": ".py",
   "mimetype": "text/x-python",
   "name": "python",
   "nbconvert_exporter": "python",
   "pygments_lexer": "ipython3",
   "version": "3.11.7"
  }
 },
 "nbformat": 4,
 "nbformat_minor": 5
}
