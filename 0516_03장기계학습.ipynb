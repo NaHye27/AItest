{
 "cells": [
  {
   "cell_type": "markdown",
   "id": "56b8e162",
   "metadata": {},
   "source": [
    "화소값"
   ]
  },
  {
   "cell_type": "code",
   "execution_count": 4,
   "id": "161954a7",
   "metadata": {},
   "outputs": [
    {
     "name": "stdout",
     "output_type": "stream",
     "text": [
      "예측값은 [0 1 2]\n",
      "참값은 0 1 2\n",
      "화소 특징을 사용했을 때 정확률= 100.0 %\n"
     ]
    }
   ],
   "source": [
    "#31p\n",
    "from sklearn import datasets\n",
    "from sklearn import svm\n",
    "\n",
    "digit=datasets.load_digits()\n",
    "\n",
    "s=svm.SVC(gamma=0.1,C=10)\n",
    "s.fit(digit.data,digit.target)\n",
    "\n",
    "new_d=[digit.data[0],digit.data[1],digit.data[2]]\n",
    "res=s.predict(new_d)\n",
    "print(\"예측값은\",res)\n",
    "print(\"참값은\",digit.target[0],digit.target[1],digit.target[2])\n",
    "\n",
    "res=s.predict(digit.data)\n",
    "correct=[i for i in range(len(res)) if res[i]==digit.target[i]]\n",
    "accuracy=len(correct)/len(res)\n",
    "print(\"화소 특징을 사용했을 때 정확률=\",accuracy*100,\"%\")\n"
   ]
  },
  {
   "cell_type": "code",
   "execution_count": 42,
   "id": "f41b73be",
   "metadata": {},
   "outputs": [
    {
     "data": {
      "image/png": "[encoded data removed]",
      "text/plain": [
       "<Figure size 500x500 with 1 Axes>"
      ]
     },
     "metadata": {},
     "output_type": "display_data"
    },
    {
     "name": "stdout",
     "output_type": "stream",
     "text": [
      "[ 0.  0.  5. 13.  9.  1.  0.  0.  0.  0. 13. 15. 10. 15.  5.  0.  0.  3.\n",
      " 15.  2.  0. 11.  8.  0.  0.  4. 12.  0.  0.  8.  8.  0.  0.  5.  8.  0.\n",
      "  0.  9.  8.  0.  0.  4. 11.  0.  1. 12.  7.  0.  0.  2. 14.  5. 10. 12.\n",
      "  0.  0.  0.  0.  6. 13. 10.  0.  0.  0.]\n",
      "이 숫자는 0 입니다,\n"
     ]
    }
   ],
   "source": [
    "#21p\n",
    "from sklearn import datasets\n",
    "import matplotlib.pyplot as plt\n",
    "\n",
    "digit=datasets.load_digits()\n",
    "\n",
    "plt.figure(figsize=(5,5))\n",
    "plt.imshow(digit.images[0],cmap=plt.cm.gray_r,interpolation='nearest')\n",
    "\n",
    "plt.show()\n",
    "print(digit.data[0])\n",
    "print(\"이 숫자는\",digit.target[0],\"입니다,\")"
   ]
  },
  {
   "cell_type": "code",
   "execution_count": 6,
   "id": "82960a32",
   "metadata": {},
   "outputs": [
    {
     "name": "stdout",
     "output_type": "stream",
     "text": [
      "[[62.  0.  0.  0.  0.  0.  0.  0.  0.  0.]\n",
      " [ 0. 74.  0.  0.  0.  0.  0.  0.  0.  0.]\n",
      " [ 0.  0. 79.  0.  0.  0.  0.  0.  0.  0.]\n",
      " [ 0.  0.  0. 68.  0.  0.  0.  0.  0.  1.]\n",
      " [ 0.  0.  0.  0. 68.  0.  0.  0.  0.  0.]\n",
      " [ 0.  0.  0.  1.  0. 84.  0.  0.  0.  1.]\n",
      " [ 0.  0.  0.  0.  0.  1. 69.  0.  0.  0.]\n",
      " [ 0.  0.  0.  1.  0.  0.  0. 76.  0.  1.]\n",
      " [ 0.  0.  0.  0.  2.  0.  0.  0. 75.  0.]\n",
      " [ 0.  0.  0.  0.  1.  1.  0.  0.  0. 54.]]\n",
      "테스트 집합에 대한 정확률은 98.60917941585535 %입니다.\n"
     ]
    }
   ],
   "source": [
    "#37p\n",
    "from sklearn import datasets\n",
    "from sklearn import svm\n",
    "from sklearn.model_selection import train_test_split\n",
    "import numpy as np\n",
    "\n",
    "digit=datasets.load_digits()\n",
    "x_train,x_test,y_train,y_test=train_test_split(digit.data,digit.target,train_size=0.6)\n",
    "\n",
    "s=svm.SVC(gamma=0.001)\n",
    "s.fit(x_train,y_train)\n",
    "\n",
    "res=s.predict(x_test)\n",
    "\n",
    "conf=np.zeros((10,10))\n",
    "for i in range(len(res)):\n",
    "    conf[res[i]][y_test[i]]+=1\n",
    "print(conf)\n",
    "\n",
    "no_correct=0\n",
    "for i in range(10):\n",
    "    no_correct+=conf[i][i]\n",
    "accuracy=no_correct/len(res)\n",
    "print(\"테스트 집합에 대한 정확률은\",accuracy*100,\"%입니다.\")\n",
    "#정확률이 다른 이유는 뽑아내는 데이터가 다르기 떄문!!!"
   ]
  },
  {
   "cell_type": "code",
   "execution_count": 19,
   "id": "73ebf00a",
   "metadata": {},
   "outputs": [
    {
     "name": "stdout",
     "output_type": "stream",
     "text": [
      "[[84.  0.  0.  0.  0.  0.  0.  0.  0.  0.]\n",
      " [ 0. 65.  0.  0.  0.  0.  0.  0.  1.  0.]\n",
      " [ 0.  0. 75.  0.  0.  0.  0.  0.  0.  0.]\n",
      " [ 0.  0.  0. 73.  0.  0.  0.  0.  0.  0.]\n",
      " [ 0.  0.  0.  0. 65.  0.  0.  0.  0.  0.]\n",
      " [ 0.  0.  0.  0.  0. 67.  0.  0.  0.  2.]\n",
      " [ 0.  0.  0.  0.  0.  0. 80.  0.  0.  0.]\n",
      " [ 0.  0.  0.  1.  0.  0.  0. 65.  0.  1.]\n",
      " [ 0.  0.  0.  0.  0.  0.  0.  0. 65.  1.]\n",
      " [ 0.  0.  0.  0.  0.  1.  0.  0.  0. 73.]]\n",
      "테스트 집합에 대한 정확률은 99.02642559109874 %입니다.\n"
     ]
    }
   ],
   "source": [
    "#C하이퍼 매개변수를 입력했을 경우=특정범위의 값을 확신하는 것.\n",
    "from sklearn import datasets\n",
    "from sklearn import svm\n",
    "from sklearn.model_selection import train_test_split\n",
    "import numpy as np\n",
    "\n",
    "digit=datasets.load_digits()\n",
    "x_train,x_test,y_train,y_test=train_test_split(digit.data,digit.target,train_size=0.6)\n",
    "\n",
    "s=svm.SVC(gamma=0.001,C=7)#C라는 하이퍼 매개변수를 넣어 정확도 변경/?0~10의 범위\n",
    "s.fit(x_train,y_train)\n",
    "\n",
    "res=s.predict(x_test)\n",
    "\n",
    "conf=np.zeros((10,10))\n",
    "for i in range(len(res)):\n",
    "    conf[res[i]][y_test[i]]+=1\n",
    "print(conf)\n",
    "\n",
    "no_correct=0\n",
    "for i in range(10):\n",
    "    no_correct+=conf[i][i]\n",
    "accuracy=no_correct/len(res)\n",
    "print(\"테스트 집합에 대한 정확률은\",accuracy*100,\"%입니다.\")\n"
   ]
  },
  {
   "cell_type": "code",
   "execution_count": 24,
   "id": "72b5d155",
   "metadata": {},
   "outputs": [
    {
     "name": "stdout",
     "output_type": "stream",
     "text": [
      "예측값은 [3 3 3]\n",
      "참값은 0 1 2\n",
      "화소 특징을 사용했을 때 정확률= 100.0 %\n"
     ]
    }
   ],
   "source": [
    "#reverse해서 180도 변한 걀과..?31p 리버스는 리스트 변수가 아니기에 np.flip을 사용\n",
    "\n",
    "from sklearn import datasets\n",
    "from sklearn import svm\n",
    "import numpy as np #추가 넘파이 변수이기 때문\n",
    "\n",
    "digit=datasets.load_digits()\n",
    "\n",
    "s=svm.SVC(gamma=0.1,C=10)\n",
    "s.fit(digit.data,digit.target)\n",
    "\n",
    "new_d=[np.flip(digit.data[0]),np.flip(digit.data[1]),np.flip(digit.data[2])]#변환\n",
    "res=s.predict(new_d)\n",
    "print(\"예측값은\",res)\n",
    "print(\"참값은\",digit.target[0],digit.target[1],digit.target[2])\n",
    "\n",
    "res=s.predict(digit.data)\n",
    "correct=[i for i in range(len(res)) if res[i]==digit.target[i]]\n",
    "accuracy=len(correct)/len(res)\n",
    "print(\"화소 특징을 사용했을 때 정확률=\",accuracy*100,\"%\")\n",
    "#뒤집어서 인식이 안되는 코드임"
   ]
  },
  {
   "cell_type": "code",
   "execution_count": 30,
   "id": "b97bd88c",
   "metadata": {},
   "outputs": [
    {
     "name": "stdout",
     "output_type": "stream",
     "text": [
      "0.png 파일이 존재하지 않습니다.\n",
      "이미지 데이터 모양: (1797, 8, 8)\n",
      "레이블 데이터 모양: (1797,)\n"
     ]
    },
    {
     "name": "stderr",
     "output_type": "stream",
     "text": [
      "C:\\Users\\home\\anaconda3\\Lib\\site-packages\\IPython\\core\\pylabtools.py:152: UserWarning: Glyph 47112 (\\N{HANGUL SYLLABLE RE}) missing from current font.\n",
      "  fig.canvas.print_figure(bytes_io, **kw)\n",
      "C:\\Users\\home\\anaconda3\\Lib\\site-packages\\IPython\\core\\pylabtools.py:152: UserWarning: Glyph 51060 (\\N{HANGUL SYLLABLE I}) missing from current font.\n",
      "  fig.canvas.print_figure(bytes_io, **kw)\n",
      "C:\\Users\\home\\anaconda3\\Lib\\site-packages\\IPython\\core\\pylabtools.py:152: UserWarning: Glyph 48660 (\\N{HANGUL SYLLABLE BEUL}) missing from current font.\n",
      "  fig.canvas.print_figure(bytes_io, **kw)\n"
     ]
    },
    {
     "data": {
      "image/png": "[encoded data removed]",
      "text/plain": [
       "<Figure size 640x480 with 1 Axes>"
      ]
     },
     "metadata": {},
     "output_type": "display_data"
    },
    {
     "name": "stdout",
     "output_type": "stream",
     "text": [
      "모델 정확도: 0.9744160177975528\n"
     ]
    },
    {
     "name": "stderr",
     "output_type": "stream",
     "text": [
      "C:\\Users\\home\\anaconda3\\Lib\\site-packages\\IPython\\core\\pylabtools.py:152: UserWarning: Glyph 50696 (\\N{HANGUL SYLLABLE YE}) missing from current font.\n",
      "  fig.canvas.print_figure(bytes_io, **kw)\n",
      "C:\\Users\\home\\anaconda3\\Lib\\site-packages\\IPython\\core\\pylabtools.py:152: UserWarning: Glyph 52769 (\\N{HANGUL SYLLABLE CEUG}) missing from current font.\n",
      "  fig.canvas.print_figure(bytes_io, **kw)\n",
      "C:\\Users\\home\\anaconda3\\Lib\\site-packages\\IPython\\core\\pylabtools.py:152: UserWarning: Glyph 49892 (\\N{HANGUL SYLLABLE SIL}) missing from current font.\n",
      "  fig.canvas.print_figure(bytes_io, **kw)\n",
      "C:\\Users\\home\\anaconda3\\Lib\\site-packages\\IPython\\core\\pylabtools.py:152: UserWarning: Glyph 51228 (\\N{HANGUL SYLLABLE JE}) missing from current font.\n",
      "  fig.canvas.print_figure(bytes_io, **kw)\n"
     ]
    },
    {
     "data": {
      "image/png": "[encoded data removed]",
      "text/plain": [
       "<Figure size 1000x300 with 4 Axes>"
      ]
     },
     "metadata": {},
     "output_type": "display_data"
    }
   ],
   "source": [
    "#숫자 이미지를 디지털로 변환해 인풋해서 구별하는 코드\n",
    "from PIL import Image\n",
    "\n",
    "def load_custom_image(image_dir, digit):\n",
    "    image_path = os.path.join(image_dir, f\"{digit}.png\")\n",
    "    if os.path.exists(image_path):\n",
    "        # 이미지 파일을 열고 NumPy 배열로 변환\n",
    "        image = Image.open(image_path)\n",
    "        image_array = np.array(image)\n",
    "        return image_array\n",
    "    else:\n",
    "        print(f\"{digit}.png 파일이 존재하지 않습니다.\")\n",
    "        return None\n",
    "\n",
    "# 이미지 파일을 읽어오기\n",
    "image_dir = 'images/'\n",
    "digit_image = load_custom_image(image_dir, 0)  # 숫자 0에 해당하는 이미지 읽어오기\n",
    "if digit_image is not None:\n",
    "    plt.imshow(digit_image, cmap='gray')\n",
    "    plt.show()\n",
    "\n",
    "import numpy as np\n",
    "import matplotlib.pyplot as plt\n",
    "from sklearn import datasets\n",
    "from sklearn.model_selection import train_test_split\n",
    "from sklearn.preprocessing import StandardScaler\n",
    "from sklearn.neighbors import KNeighborsClassifier\n",
    "from sklearn.metrics import accuracy_score\n",
    "\n",
    "# 숫자 데이터셋 로드\n",
    "digits = datasets.load_digits()\n",
    "\n",
    "# 데이터 확인\n",
    "print(\"이미지 데이터 모양:\", digits.images.shape)\n",
    "print(\"레이블 데이터 모양:\", digits.target.shape)\n",
    "\n",
    "# 8x8 이미지 중 첫번째 이미지 출력\n",
    "plt.imshow(digits.images[3], cmap='gray')\n",
    "plt.title(f'레이블: {digits.target[7]}')\n",
    "plt.show()\n",
    "\n",
    "# 이미지 데이터를 2D에서 1D로 변환\n",
    "n_samples = len(digits.images)\n",
    "data = digits.images.reshape((n_samples, -1))\n",
    "\n",
    "# 학습 및 테스트 데이터 분리\n",
    "X_train, X_test, y_train, y_test = train_test_split(data, digits.target, test_size=0.5, random_state=42)\n",
    "\n",
    "# 데이터 정규화\n",
    "scaler = StandardScaler()\n",
    "X_train = scaler.fit_transform(X_train)\n",
    "X_test = scaler.transform(X_test)\n",
    "\n",
    "# KNN 분류기 모델 생성 및 학습\n",
    "knn = KNeighborsClassifier(n_neighbors=3)\n",
    "knn.fit(X_train, y_train)\n",
    "\n",
    "# 테스트 데이터로 예측\n",
    "y_pred = knn.predict(X_test)\n",
    "\n",
    "# 정확도 출력\n",
    "print(\"모델 정확도:\", accuracy_score(y_test, y_pred))\n",
    "\n",
    "# 일부 예측 결과 시각화\n",
    "fig, axes = plt.subplots(1, 4, figsize=(10, 3))\n",
    "for ax, image, prediction, true_label in zip(axes, X_test, y_pred, y_test):\n",
    "    image = image.reshape(8, 8)\n",
    "    ax.set_axis_off()\n",
    "    ax.imshow(image, cmap=plt.cm.gray_r, interpolation='nearest')\n",
    "    ax.set_title(f'예측: {prediction}\\n실제: {true_label}')\n",
    "plt.show()\n"
   ]
  },
  {
   "cell_type": "code",
   "execution_count": 18,
   "id": "47938e9c",
   "metadata": {},
   "outputs": [
    {
     "data": {
      "image/png": "[encoded data removed]",
      "text/plain": [
       "<Figure size 500x500 with 1 Axes>"
      ]
     },
     "metadata": {},
     "output_type": "display_data"
    },
    {
     "name": "stdout",
     "output_type": "stream",
     "text": [
      "[1 1 1 1 1 1 1 1 1 1 1 1 1 1 1 1 1 1 1 1 1 1 1 1 1 1 1 1 1 1 1 1 1 1 1 1 1\n",
      " 1 1 1 1 1 1 1 1 1 1 1 1 1 1 1 1 1 1 1 1 1 1 1 1 1 1 1]\n",
      "이 숫자는 0.0 입니다.\n"
     ]
    }
   ],
   "source": [
    "#수정7\n",
    "from sklearn import datasets\n",
    "import matplotlib.pyplot as plt\n",
    "from PIL import Image\n",
    "import numpy as np\n",
    "import os\n",
    "from sklearn.utils import Bunch\n",
    "\n",
    "# 손글씨 이미지 파일 경로 설정\n",
    "image_dir = 'images/'\n",
    "image_files = [f for f in os.listdir(image_dir) if f.endswith('.png')]\n",
    "\n",
    "# 이미지를 읽어와서 8x8 크기로 변환\n",
    "images = []\n",
    "for image_file in image_files:\n",
    "    image_path = os.path.join(image_dir, image_file)\n",
    "    with Image.open(image_path) as img:\n",
    "        # 이미지를 8x8로 리사이즈하고 그레이스케일로 변환\n",
    "        img = img.resize((8, 8)).convert('L')\n",
    "        img = np.array(img)\n",
    "        # 이미지 데이터의 스케일을 0-16으로 조정\n",
    "        img = 16 - (img / 16).astype(int)\n",
    "        images.append(img)\n",
    "\n",
    "# 이미지를 numpy 배열로 변환\n",
    "images = np.array(images)\n",
    "\n",
    "# 이미지를 1차원 데이터로 변환\n",
    "data = images.reshape((images.shape[0], -1))\n",
    "\n",
    "# 타겟 데이터 생성 (임시로 0으로 설정, 필요에 따라 수정 가능)\n",
    "target = np.zeros(images.shape[2])\n",
    "\n",
    "# 데이터셋 생성\n",
    "digit = Bunch(data=data, images=images, target=target)\n",
    "\n",
    "# 첫 번째 이미지 시각화\n",
    "plt.figure(figsize=(5, 5))\n",
    "plt.imshow(digit.images[0], cmap=plt.cm.gray_r, interpolation='nearest')\n",
    "plt.show()\n",
    "\n",
    "# 첫 번째 데이터와 타겟 출력\n",
    "print(digit.data[0])\n",
    "print(\"이 숫자는\", digit.target[2], \"입니다.\")\n"
   ]
  },
  {
   "cell_type": "code",
   "execution_count": 8,
   "id": "25ef50b2",
   "metadata": {},
   "outputs": [
    {
     "data": {
      "image/png": "[encoded data removed]",
      "text/plain": [
       "<Figure size 500x500 with 1 Axes>"
      ]
     },
     "metadata": {},
     "output_type": "display_data"
    },
    {
     "name": "stdout",
     "output_type": "stream",
     "text": [
      "[1 1 1 1 1 1 1 1 1 1 2 7 7 2 1 1 1 1 6 2 2 6 1 1 1 1 6 1 1 6 1 1 1 1 6 1 1\n",
      " 6 1 1 1 1 6 3 3 6 1 1 1 1 2 6 7 2 1 1 1 1 1 1 1 1 1 1]\n",
      "이 숫자는 0 입니다.\n"
     ]
    }
   ],
   "source": [
    "#또다시 시작하는 수정본 최종본~!!!~!!~~~!!~~!!~!~\n",
    "from sklearn import datasets\n",
    "import matplotlib.pyplot as plt\n",
    "from PIL import Image\n",
    "import numpy as np\n",
    "import os\n",
    "from sklearn.utils import Bunch\n",
    "\n",
    "# 손글씨 이미지 파일 경로 설정\n",
    "image_dir = 'images/'\n",
    "image_files = [f for f in os.listdir(image_dir) if f.endswith('.png')]\n",
    "\n",
    "# 이미지를 읽어와서 8x8 크기로 변환\n",
    "images = []\n",
    "for image_file in image_files:\n",
    "    image_path = os.path.join(image_dir, image_file)\n",
    "    with Image.open(image_path) as img:\n",
    "        # 이미지를 8x8로 리사이즈하고 그레이스케일로 변환\n",
    "        img = img.resize((8, 8)).convert('L')\n",
    "        img = np.array(img)\n",
    "        # 이미지 데이터의 스케일을 0-16으로 조정\n",
    "        img = 16 - (img / 16).astype(int)\n",
    "        images.append(img)\n",
    "\n",
    "# 이미지를 numpy 배열로 변환\n",
    "images = np.array(images)\n",
    "\n",
    "# 이미지를 1차원 데이터로 변환\n",
    "data = images.reshape((images.shape[0], -1))\n",
    "\n",
    "# 타겟 데이터 생성 (임시로 0으로 설정, 필요에 따라 수정 가능)\n",
    "# 예를 들어, 이미지 파일 이름에서 숫자를 추출하여 타겟 값을 설정할 수 있습니다.\n",
    "# 예: '0.png', '1.png', ..., '9.png' 일 경우\n",
    "target = np.array([int(os.path.splitext(f)[0]) for f in image_files])\n",
    "\n",
    "# 데이터셋 생성\n",
    "digit = Bunch(data=data, images=images, target=target)\n",
    "\n",
    "# 첫 번째 이미지 시각화\n",
    "plt.figure(figsize=(5, 5))\n",
    "plt.imshow(digit.images[0], cmap=plt.cm.gray_r, interpolation='nearest')\n",
    "plt.show()\n",
    "\n",
    "# 첫 번째 데이터와 타겟 출력\n",
    "print(digit.data[0])\n",
    "print(\"이 숫자는\", digit.target[0], \"입니다.\")\n",
    "##이게 되네"
   ]
  },
  {
   "cell_type": "code",
   "execution_count": 9,
   "id": "29c8119d",
   "metadata": {},
   "outputs": [
    {
     "data": {
      "image/png": "[encoded data removed]",
      "text/plain": [
       "<Figure size 640x480 with 1 Axes>"
      ]
     },
     "metadata": {},
     "output_type": "display_data"
    },
    {
     "name": "stdout",
     "output_type": "stream",
     "text": [
      "[1 1 1 1 1 1 1 1 1 1 2 7 7 2 1 1 1 1 6 2 2 6 1 1 1 1 6 1 1 6 1 1 1 1 6 1 1\n",
      " 6 1 1 1 1 6 3 3 6 1 1 1 1 2 6 7 2 1 1 1 1 1 1 1 1 1 1]\n",
      "이 숫자는 0 입니다.\n"
     ]
    }
   ],
   "source": [
    "#최종본 길이 줄이기\n",
    "from sklearn.utils import Bunch\n",
    "import matplotlib.pyplot as plt\n",
    "from PIL import Image\n",
    "import numpy as np\n",
    "import os\n",
    "\n",
    "# 이미지 파일 경로 설정 및 읽기\n",
    "image_dir = 'images/'\n",
    "image_files = [f for f in os.listdir(image_dir) if f.endswith('.png')]\n",
    "\n",
    "# 이미지를 읽어와서 처리\n",
    "images = [16 - (np.array(Image.open(os.path.join(image_dir, f)).resize((8, 8)).convert('L')) / 16).astype(int)\n",
    "          for f in image_files]\n",
    "\n",
    "# 이미지를 numpy 배열로 변환 및 1차원 데이터로 변환\n",
    "data = np.array(images).reshape(len(images), -1)\n",
    "\n",
    "# 타겟 데이터 생성\n",
    "target = np.array([int(os.path.splitext(f)[0]) for f in image_files])\n",
    "\n",
    "# 데이터셋 생성\n",
    "digit = Bunch(data=data, images=np.array(images), target=target)\n",
    "\n",
    "# 첫 번째 이미지 시각화 및 출력\n",
    "plt.imshow(digit.images[0], cmap=plt.cm.gray_r, interpolation='nearest')\n",
    "plt.show()\n",
    "\n",
    "print(digit.data[0])\n",
    "print(\"이 숫자는\", digit.target[0], \"입니다.\")\n"
   ]
  },
  {
   "cell_type": "code",
   "execution_count": null,
   "id": "3bc1ef11",
   "metadata": {},
   "outputs": [],
   "source": []
  }
 ],
 "metadata": {
  "kernelspec": {
   "display_name": "Python 3 (ipykernel)",
   "language": "python",
   "name": "python3"
  },
  "language_info": {
   "codemirror_mode": {
    "name": "ipython",
    "version": 3
   },
   "file_extension": ".py",
   "mimetype": "text/x-python",
   "name": "python",
   "nbconvert_exporter": "python",
   "pygments_lexer": "ipython3",
   "version": "3.11.7"
  }
 },
 "nbformat": 4,
 "nbformat_minor": 5
}
