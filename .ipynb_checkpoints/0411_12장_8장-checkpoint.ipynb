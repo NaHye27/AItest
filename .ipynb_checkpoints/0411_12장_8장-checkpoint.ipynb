{
 "cells": [
  {
   "cell_type": "code",
   "execution_count": 1,
   "id": "c8701070-1b2e-4ea8-8400-a01d9ef73930",
   "metadata": {},
   "outputs": [
    {
     "name": "stdout",
     "output_type": "stream",
     "text": [
      "50\n"
     ]
    }
   ],
   "source": [
    "#up\n",
    "class Car:\n",
    "    def __init__(self,name,year):\n",
    "        self.name = name\n",
    "        self.year = year\n",
    "        self.speed = 0   #초기화하는 기능.\n",
    "\n",
    "    def upSpeed(self,value):\n",
    "        self.speed += value\n",
    "\n",
    "class Sedan(Car): #init함수가 없는데 Car에서 전부 상속받아서 가짐 ,즉 생략된다는 의미, \n",
    "    def upSpeed(self,value):\n",
    "        self.speed += value\n",
    "\n",
    "        if self.speed > 150:\n",
    "            self.speed = 150\n",
    "\n",
    "myCar2 = Car('Volvo',2022) #Car 함수의 처음인 init로 들어감.\n",
    "myCar = Sedan('Volvo',2023)\n",
    "\n",
    "myCar.upSpeed(50) #sedan의 upspeed를 찾아감. 0+50\n",
    "\n",
    "print(myCar.speed)"
   ]
  },
  {
   "cell_type": "code",
   "execution_count": 8,
   "id": "ffe325fc-02c2-4168-9706-9b2b351f3a8f",
   "metadata": {},
   "outputs": [
    {
     "name": "stdout",
     "output_type": "stream",
     "text": [
      "20\n"
     ]
    }
   ],
   "source": [
    "#down\n",
    "class Car:\n",
    "    def __init__(self,name,year):\n",
    "        self.name = name\n",
    "        self.year = year\n",
    "        self.speed = 0\n",
    "\n",
    "    def upSpeed(self,value):\n",
    "        self.speed += value\n",
    "\n",
    "class Sedan(Car): #init함수가 없는데 Car에서 전부 상속받아서 가짐 ,즉 생략된다는 의미, \n",
    "    def upSpeed(self,value):\n",
    "        self.speed += value\n",
    "\n",
    "        if self.speed > 150:\n",
    "            self.speed = 150\n",
    "\n",
    "    def downSpeed(self,value): #상속 받고 바꾸고 싶은 부분은 변경가능.\n",
    "        self.speed -= value\n",
    "\n",
    "        if self.speed < 0:\n",
    "            self.speed = 0\n",
    "\n",
    "myCar = Sedan('Volvo',2023)\n",
    "\n",
    "myCar.upSpeed(50)\n",
    "myCar.downSpeed(30)\n",
    "\n",
    "print(myCar.speed)"
   ]
  },
  {
   "cell_type": "code",
   "execution_count": 18,
   "id": "982f2268-156e-4e0b-9fcd-000186f17010",
   "metadata": {},
   "outputs": [
    {
     "name": "stdout",
     "output_type": "stream",
     "text": [
      "50\n",
      "20\n",
      "0\n"
     ]
    }
   ],
   "source": [
    "#reset\n",
    "class Car:\n",
    "    def __init__(self,name,year):\n",
    "        self.name = name\n",
    "        self.year = year\n",
    "        self.speed = 0 \n",
    "\n",
    "    def upSpeed(self,value):\n",
    "        self.speed += value\n",
    "\n",
    "    def reset(self):\n",
    "        self.speed = 0\n",
    "\n",
    "class Sedan(Car): #init,reset 함수가 없는데 Car에서 전부 상속받아서 가짐 ,즉 코드에선 생략된다는 의미, \n",
    "    def upSpeed(self,value):\n",
    "        self.speed += value\n",
    "\n",
    "        if self.speed > 150: #속도제한을 추가함.\n",
    "            self.speed = 150\n",
    "\n",
    "    def downSpeed(self,value): #없는 부분을 추가가능.\n",
    "        self.speed -= value\n",
    "\n",
    "        if self.speed < 0:\n",
    "            self.speed = 0\n",
    "\n",
    "Nahye = Sedan('Volvo',2023) #Nahye에 Sedan 내용을 저장.\n",
    "\n",
    "Nahye.upSpeed(50) #Sedan의 upSpeed를 불러옴.\n",
    "print(Nahye.speed)\n",
    "\n",
    "Nahye.downSpeed(30) #-30을 붙이면 꼐산할 때 +로 인식해서 양의 값이 기존의 값보다 크면\n",
    "                    #최종의 값이 음수가되어 0.\n",
    "print(Nahye.speed)\n",
    "\n",
    "Nahye.reset() #Sedan이 Car를 상속 받아서 Car의 reset이 저장되어서 작동함.\n",
    "                # 빈 괄호인 이유는 따로 들어간 인풋이 없어서 생략가능.\n",
    "print(Nahye.speed)"
   ]
  },
  {
   "cell_type": "code",
   "execution_count": 23,
   "id": "c98fed13-4913-484f-937b-4fba855d0452",
   "metadata": {},
   "outputs": [
    {
     "name": "stdout",
     "output_type": "stream",
     "text": [
      "0\n",
      "1\n",
      "1\n",
      "2\n",
      "2\n",
      "3\n",
      "3\n",
      "1\n",
      "2\n",
      "3\n",
      "3\n"
     ]
    }
   ],
   "source": [
    "#정적변수\n",
    "class Television:\n",
    "    serialNumber = 0 # 저장된 기록이 필요해서 함수 밖에서 0으로 지정. \n",
    "    def __init__(self):\n",
    "        Television.serialNumber += 1  #class Television에 속한 변수 serialNumber를 의미함.\n",
    "        self.number = Television.serialNumber #self.number는 밑의 tv1.number를 뜻함.\n",
    "\n",
    "print(Television.serialNumber)\n",
    "\n",
    "tv1 = Television()\n",
    "print(tv1.number)\n",
    "print(Television.serialNumber)\n",
    "\n",
    "tv2 = Television()\n",
    "print(tv2.number)\n",
    "print(Television.serialNumber)\n",
    "\n",
    "tv3 = Television()\n",
    "print(tv3.number)\n",
    "print(Television.serialNumber)\n",
    "\n",
    "print(tv1.number)\n",
    "print(tv2.number)\n",
    "print(tv3.number)\n",
    "print(Television.serialNumber) #지금까지 생성된 tv가 3대라는 의미."
   ]
  },
  {
   "cell_type": "markdown",
   "id": "ec92edb6-67bc-4ed6-a30a-3db8a6bdccb8",
   "metadata": {},
   "source": [
    "8장"
   ]
  },
  {
   "cell_type": "code",
   "execution_count": 24,
   "id": "7cc66b03-5049-4792-a468-48f8a6ebcad0",
   "metadata": {},
   "outputs": [
    {
     "ename": "IndexError",
     "evalue": "list index out of range",
     "output_type": "error",
     "traceback": [
      "\u001b[1;31m---------------------------------------------------------------------------\u001b[0m",
      "\u001b[1;31mIndexError\u001b[0m                                Traceback (most recent call last)",
      "Cell \u001b[1;32mIn[24], line 2\u001b[0m\n\u001b[0;32m      1\u001b[0m a \u001b[38;5;241m=\u001b[39m[\u001b[38;5;241m1\u001b[39m,\u001b[38;5;241m2\u001b[39m,\u001b[38;5;241m3\u001b[39m,\u001b[38;5;241m4\u001b[39m]\n\u001b[1;32m----> 2\u001b[0m \u001b[38;5;28mprint\u001b[39m(a[\u001b[38;5;241m5\u001b[39m])\n",
      "\u001b[1;31mIndexError\u001b[0m: list index out of range"
     ]
    }
   ],
   "source": [
    "#인덱스 오류\n",
    "a =[1,2,3,4]\n",
    "print(a[5])"
   ]
  },
  {
   "cell_type": "code",
   "execution_count": 25,
   "id": "73347222-5700-4ee9-a73a-6c67d381f3e8",
   "metadata": {},
   "outputs": [
    {
     "name": "stdin",
     "output_type": "stream",
     "text": [
      "두 수를 입력하시오:  10 0\n"
     ]
    },
    {
     "ename": "ZeroDivisionError",
     "evalue": "division by zero",
     "output_type": "error",
     "traceback": [
      "\u001b[1;31m---------------------------------------------------------------------------\u001b[0m",
      "\u001b[1;31mZeroDivisionError\u001b[0m                         Traceback (most recent call last)",
      "Cell \u001b[1;32mIn[25], line 2\u001b[0m\n\u001b[0;32m      1\u001b[0m a, b \u001b[38;5;241m=\u001b[39m \u001b[38;5;28minput\u001b[39m(\u001b[38;5;124m'\u001b[39m\u001b[38;5;124m두 수를 입력하시오: \u001b[39m\u001b[38;5;124m'\u001b[39m)\u001b[38;5;241m.\u001b[39msplit()\n\u001b[1;32m----> 2\u001b[0m result \u001b[38;5;241m=\u001b[39m \u001b[38;5;28mint\u001b[39m(a) \u001b[38;5;241m/\u001b[39m \u001b[38;5;28mint\u001b[39m(b)\n",
      "\u001b[1;31mZeroDivisionError\u001b[0m: division by zero"
     ]
    }
   ],
   "source": [
    "#ZeroDivisionError\n",
    "a, b = input('두 수를 입력하시오: ').split()\n",
    "result = int(a) / int(b) "
   ]
  },
  {
   "cell_type": "code",
   "execution_count": 26,
   "id": "839b4654-fb45-4228-9330-5c0b454f3e94",
   "metadata": {},
   "outputs": [
    {
     "name": "stdin",
     "output_type": "stream",
     "text": [
      "두 수를 입력하시오:  10 0\n"
     ]
    },
    {
     "name": "stdout",
     "output_type": "stream",
     "text": [
      "수가 정확한지 확인하세요.\n"
     ]
    }
   ],
   "source": [
    "#ZeroDivisionError • try-except사용\n",
    "try: \n",
    "    a, b = input('두 수를 입력하시오: ').split()\n",
    "    result = int(a) / int(b) \n",
    "    print('{}/{} = {}'.format(a, b, result))\n",
    "\n",
    "except:\n",
    "    print('수가 정확한지 확인하세요.')\n"
   ]
  },
  {
   "cell_type": "code",
   "execution_count": 27,
   "id": "177288f2-7ea2-4c3f-b6d6-a64f1a123a20",
   "metadata": {},
   "outputs": [
    {
     "name": "stdin",
     "output_type": "stream",
     "text": [
      "두 수를 입력하시오:  100 0\n"
     ]
    },
    {
     "name": "stdout",
     "output_type": "stream",
     "text": [
      "오류 : 0으로 나눔을 시도했습니다.\n"
     ]
    }
   ],
   "source": [
    "#복수의 except 문과 else 문을 포함한 예외처리\n",
    "try:\n",
    "    a, b = map(int,input('두 수를 입력하시오: ').split())\n",
    "    result = a / b\n",
    "except ZeroDivisionError:\n",
    "    print('오류 : 0으로 나눔을 시도했습니다.')\n",
    "except ValueError:\n",
    "    print('오류 : 입력 값이 정수나 실수가 아닙니다.')\n",
    "except:\n",
    "    print('오류 : 10 2와 같이 두 정수를 입력하세요.')\n",
    "else:\n",
    "    print('{} / {} = {}'.format(a, b, result))\n"
   ]
  },
  {
   "cell_type": "code",
   "execution_count": 28,
   "id": "650d2257-8fe9-4133-9bf3-e1d08fee0972",
   "metadata": {},
   "outputs": [
    {
     "name": "stdin",
     "output_type": "stream",
     "text": [
      "두 수를 입력하시오:  100 0\n"
     ]
    },
    {
     "name": "stdout",
     "output_type": "stream",
     "text": [
      "입력숫자를 확인해 주세요\n"
     ]
    }
   ],
   "source": [
    "#복수의 except 문과 else 문을 포함한 예외처리\n",
    "#교수님\n",
    "try:\n",
    "    a, b = map(int,input('두 수를 입력하시오: ').split())\n",
    "    result = a / b\n",
    "    print('{} / {} = {}'.format(a, b, result))\n",
    "    \n",
    "except ZeroDivisionError:\n",
    "    print('입력숫자를 확인해 주세요')\n",
    "\n",
    "#결과가 나올때 까지 인풋을 받는 코드\n"
   ]
  },
  {
   "cell_type": "code",
   "execution_count": 31,
   "id": "ce04ef0e-8a5c-4cb6-b65a-0a4d709ec8e9",
   "metadata": {},
   "outputs": [
    {
     "name": "stdin",
     "output_type": "stream",
     "text": [
      "두 수를 입력하시오:  12 5\n"
     ]
    },
    {
     "name": "stdout",
     "output_type": "stream",
     "text": [
      "12 / 5 = 2.4\n"
     ]
    }
   ],
   "source": [
    "#복수의 except 문과 else 문을 포함한 예외처리\n",
    "#교수님\n",
    "#결과가 나올때 까지 인풋을 받는 코드 \n",
    "# 시험문제로 이런 식.\n",
    "while True :\n",
    "    try:\n",
    "        a, b = map(int,input('두 수를 입력하시오: ').split())\n",
    "        result = a / b\n",
    "        print('{} / {} = {}'.format(a, b, result))\n",
    "        break\n",
    "    \n",
    "    except ZeroDivisionError:\n",
    "        print('입력숫자를 확인해 주세요')\n"
   ]
  },
  {
   "cell_type": "code",
   "execution_count": 36,
   "id": "f14b013e-a944-4819-b460-889b0cb16a5a",
   "metadata": {},
   "outputs": [
    {
     "name": "stdin",
     "output_type": "stream",
     "text": [
      "예/아니오 중 하나를 입력하세요 : 아니요\n"
     ]
    },
    {
     "name": "stdout",
     "output_type": "stream",
     "text": [
      "error : 입력을 확인하세요.\n"
     ]
    },
    {
     "name": "stdin",
     "output_type": "stream",
     "text": [
      "예/아니오 중 하나를 입력하세요 : 아니오\n"
     ]
    },
    {
     "name": "stdout",
     "output_type": "stream",
     "text": [
      "정상적인 입력입니다.\n"
     ]
    }
   ],
   "source": [
    "# raise 문\n",
    "# get_ans() 함수\n",
    "def get_ans(ans):\n",
    "    if ans in ['예', '아니오']:\n",
    "        print('정상적인 입력입니다.')\n",
    "    else:\n",
    "        raise ValueError('입력을 확인하세요.')\n",
    "while True:\n",
    "    try:\n",
    "        ans = input('예/아니오 중 하나를 입력하세요 :')\n",
    "        get_ans(ans)\n",
    "        break\n",
    "    except Exception as e: #에러 설명.\n",
    "        print('error :', e)"
   ]
  },
  {
   "cell_type": "code",
   "execution_count": null,
   "id": "01d95cb2-e622-4a6b-8126-0bf21c9c7242",
   "metadata": {},
   "outputs": [],
   "source": []
  }
 ],
 "metadata": {
  "kernelspec": {
   "display_name": "Python 3 (ipykernel)",
   "language": "python",
   "name": "python3"
  },
  "language_info": {
   "codemirror_mode": {
    "name": "ipython",
    "version": 3
   },
   "file_extension": ".py",
   "mimetype": "text/x-python",
   "name": "python",
   "nbconvert_exporter": "python",
   "pygments_lexer": "ipython3",
   "version": "3.11.7"
  }
 },
 "nbformat": 4,
 "nbformat_minor": 5
}
