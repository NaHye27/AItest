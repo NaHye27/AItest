{
 "cells": [
  {
   "cell_type": "markdown",
   "id": "3d26a0e1-e890-4a6a-8475-ddaa106f3bf4",
   "metadata": {},
   "source": [
    "딕셔너리"
   ]
  },
  {
   "cell_type": "code",
   "execution_count": 4,
   "id": "0a5c5234-47f2-4cbe-ae80-68c50946ecb9",
   "metadata": {},
   "outputs": [
    {
     "data": {
      "text/plain": [
       "'010-1234-5678'"
      ]
     },
     "execution_count": 4,
     "metadata": {},
     "output_type": "execute_result"
    }
   ],
   "source": [
    "person = {'이름' : '홍길동','나이' : 26,'몸무게' :82}#주소록 사전 만들기에 적합\n",
    "person['나이']\n",
    "\n",
    "Phon={'김나혜' : '010-1234-5678','기마해' : '101-1234-4564'}\n",
    "Phon['김나혜']"
   ]
  },
  {
   "cell_type": "code",
   "execution_count": null,
   "id": "20f43636-020c-4546-8baa-0efe1c734091",
   "metadata": {},
   "outputs": [],
   "source": []
  }
 ],
 "metadata": {
  "kernelspec": {
   "display_name": "Python 3 (ipykernel)",
   "language": "python",
   "name": "python3"
  },
  "language_info": {
   "codemirror_mode": {
    "name": "ipython",
    "version": 3
   },
   "file_extension": ".py",
   "mimetype": "text/x-python",
   "name": "python",
   "nbconvert_exporter": "python",
   "pygments_lexer": "ipython3",
   "version": "3.11.7"
  }
 },
 "nbformat": 4,
 "nbformat_minor": 5
}
