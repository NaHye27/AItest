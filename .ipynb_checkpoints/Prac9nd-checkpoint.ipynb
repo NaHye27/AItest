{
 "cells": [
  {
   "cell_type": "code",
   "execution_count": 3,
   "id": "a42a92e8-42db-49e8-98bc-7efa468c3983",
   "metadata": {},
   "outputs": [
    {
     "name": "stdout",
     "output_type": "stream",
     "text": [
      "457\n",
      "-211\n",
      "41082\n",
      "41.0\n"
     ]
    }
   ],
   "source": [
    "#9.1\n",
    "n = 123\n",
    "print(n.__add__(334))\n",
    "print(n.__sub__(334))\n",
    "print(n.__mul__(334))\n",
    "print(n.__truediv__(3))"
   ]
  },
  {
   "cell_type": "code",
   "execution_count": 5,
   "id": "9d72c493-2d14-4aad-97d7-8d041cbc6a9b",
   "metadata": {},
   "outputs": [
    {
     "name": "stdout",
     "output_type": "stream",
     "text": [
      "HELLO WORLD~\n"
     ]
    }
   ],
   "source": [
    "#9.3\n",
    "s = 'Hello World~'\n",
    "\n",
    "#사용가는 메소드\n",
    "#pop() #리스트(list) 타입에서 사용되며, 리스트의 마지막 요소를 제거하고 해당 요소를 반환\n",
    "#sort() #리스트의 요소들을 정렬\n",
    "#append() #리스트의 끝에 요소를 추가\n",
    "a=s.upper() \n",
    "print(a)\n",
    "#insert() #리스트의 특정 위치(index)에 요소를 삽입\n",
    "#remove() #리스트에서 첫 번째로 나오는 지정된 값을 삭제"
   ]
  },
  {
   "cell_type": "code",
   "execution_count": 7,
   "id": "8e1e9109-ab15-4f70-a828-149405553fb3",
   "metadata": {},
   "outputs": [
    {
     "name": "stdout",
     "output_type": "stream",
     "text": [
      "a와 b는 같은 객체인가? True\n",
      "b와 c는 같은 객체인가? False\n",
      "c와 d는 같은 객체인가? False\n",
      "d와 e는 같은 객체인가? True\n"
     ]
    }
   ],
   "source": [
    "#9.5\n",
    "#5개 변수 할당, 동일 개체인지 is연산자.\n",
    "a = 1\n",
    "b = 1\n",
    "c = 2\n",
    "d = 3\n",
    "e = 3\n",
    "\n",
    "if a is b:\n",
    "    print('a와 b는 같은 객체인가? True')\n",
    "else:\n",
    "    print('a와 b는 같은 객체인가? False')\n",
    "\n",
    "if b is c:\n",
    "    print('b와 c는 같은 객체인가? True')\n",
    "else:\n",
    "    print('b와 c는 같은 객체인가? False')\n",
    "\n",
    "if c is d:\n",
    "    print('c와 d는 같은 객체인가? True')\n",
    "else:\n",
    "    print('c와 d는 같은 객체인가? False')\n",
    "\n",
    "if d is e:\n",
    "    print('d와 e는 같은 객체인가? True')\n",
    "else:\n",
    "    print('d와 e는 같은 객체인가? False')\n"
   ]
  },
  {
   "cell_type": "code",
   "execution_count": 18,
   "id": "d13a44e1-37ad-4ebe-9818-05b07d4cf13e",
   "metadata": {},
   "outputs": [
    {
     "name": "stdout",
     "output_type": "stream",
     "text": [
      "이름은 Mango이고, 나이는 3살입니다.\n"
     ]
    }
   ],
   "source": [
    "#9.6~7\n",
    "class Dog:\n",
    "\n",
    "    def __init__(self,name,age):\n",
    "        self.name = name\n",
    "        self.age = age\n",
    "\n",
    "    def __str__(self):\n",
    "        return '이름은 {}이고, 나이는 {}살입니다.'.format(self.name,self.age)\n",
    "\n",
    "my_dog = Dog('Mango',3)\n",
    "print(my_dog)\n",
    "#print('{}의 이름은 {}이고, 나이는 {}살입니다.'.format('my_dog',my_dog.name,my_dog.age))"
   ]
  },
  {
   "cell_type": "code",
   "execution_count": 25,
   "id": "1d738fa0-c52a-481f-b53b-ec5b88089cae",
   "metadata": {},
   "outputs": [
    {
     "name": "stdout",
     "output_type": "stream",
     "text": [
      "c1 = C(11)\n",
      "c2 = C(1)\n",
      "c2 = C(0)\n",
      "c3 = C(30)\n",
      "c4 = C(0)\n"
     ]
    }
   ],
   "source": [
    "#9.8~9\n",
    "class Counter:\n",
    "\n",
    "    def __init__(self,number=0):\n",
    "        if number>=100 and number<=-1:\n",
    "             self.__number = number\n",
    "        else:\n",
    "            self.__number = number\n",
    "\n",
    "    def reset(self):\n",
    "        self.__number = 0\n",
    "\n",
    "    def inc(self):\n",
    "        self.__number += 1\n",
    "        if self.__number>=100:\n",
    "            self.__number = 0\n",
    "\n",
    "    def dec(self):\n",
    "        self.__number -= 1\n",
    "        if self.__number<=-1:\n",
    "            self.__number = 0\n",
    "\n",
    "    def __str__(self):\n",
    "        return \"C(\"+str(self.__number)+\")\" #self.__number를 문자열로 변환\n",
    "\n",
    "    def __add__(self,other):\n",
    "        cAdd = self.__number + other.__number\n",
    "        if cAdd>=100:\n",
    "            return Counter(0)\n",
    "        return Counter(cAdd)\n",
    "\n",
    "    def __sub__(self,other):\n",
    "        cSub = self.__number - other.__number\n",
    "        if cSub<= -1:\n",
    "            return Counter(0)\n",
    "        return Counter(cSub)\n",
    "        \n",
    "#9.8 실행문\n",
    "c1 = Counter(10)\n",
    "c1.inc()\n",
    "print('c1 =', c1)\n",
    "\n",
    "c2 = Counter()\n",
    "c2.inc()\n",
    "\n",
    "c2.inc()\n",
    "c2.dec()\n",
    "print('c2 =', c2)\n",
    "c2.reset()\n",
    "print('c2 =', c2)\n",
    "\n",
    "#9.9 실행문\n",
    "c11 = Counter(10)\n",
    "c22 = Counter(20)\n",
    "c3 = c11 + c22\n",
    "c4 = c11 - c22\n",
    "print('c3 =', c3)\n",
    "print('c4 =', c4)"
   ]
  },
  {
   "cell_type": "code",
   "execution_count": 46,
   "id": "b41bca08-d2a2-46e8-a9eb-b170cab7f62f",
   "metadata": {},
   "outputs": [
    {
     "name": "stdin",
     "output_type": "stream",
     "text": [
      "학생의 이름을 입력하세요 :  홍길동\n",
      "학생의 학번을 입력하세요 :  20200012\n",
      "학생의 국어 성적을 입력하세요 : 85\n",
      "학생의 수학 성적을 입력하세요 :  90\n",
      "학생의 과학 성적을 입력하세요 :  95\n"
     ]
    },
    {
     "name": "stdout",
     "output_type": "stream",
     "text": [
      "이름 : 홍길동, 학번 : 20200012 \n",
      "국어성적 : 85, 수학성적 : 90, 과학성적 : 95 \n",
      "        합계 : 270, 평균 : 90.0\n"
     ]
    }
   ],
   "source": [
    "#9.11\n",
    "class Student:\n",
    "\n",
    "    def __init__(self, name, student_id, korean_quiz=0, math_quiz=0, science_quiz=0):\n",
    "        self.name = name\n",
    "        self.student_id = student_id\n",
    "        self.korean_quiz = korean_quiz\n",
    "        self.math_quiz = math_quiz\n",
    "        self.science_quiz = science_quiz\n",
    "# \\는 코드가 너무 길때 사용.\n",
    "    def __str__(self):\n",
    "        return '이름 : {}, 학번 : {} \\n국어성적 : {}, 수학성적 : {}, 과학성적 : {} \\n\\\n",
    "        합계 : {}, 평균 : {}'.format(self.name, self.student_id, self.korean_quiz,self.math_quiz,\\\n",
    "                                 self.science_quiz, self.get_total_score(),self.get_avg_score()) \n",
    "\n",
    "    def get_name(self):\n",
    "        return self.name\n",
    "\n",
    "    def get_student_id(self):\n",
    "        return self.student_id\n",
    "\n",
    "    def get_korean_quiz(self):\n",
    "        return self.korean_quiz\n",
    "\n",
    "    def get_math_quiz(self):\n",
    "        return self.math_quiz\n",
    "\n",
    "    def get_science_quiz(self):\n",
    "        return self.science_quiz\n",
    "\n",
    "    def set_korean_quiz(self, korean_quiz):\n",
    "        self.korean_quiz = korean_quiz\n",
    "\n",
    "    def set_math_quiz(self, math_quiz):\n",
    "        self.math_quiz = math_quiz\n",
    "\n",
    "    def set_science_quiz(self, science_quiz):\n",
    "        self.science_quiz = science_quiz\n",
    "\n",
    "    def get_total_score(self):\n",
    "        return self.korean_quiz + self.math_quiz + self.science_quiz\n",
    "\n",
    "    def get_avg_score(self):\n",
    "        return self.get_total_score() / 3\n",
    "\n",
    "name = input('학생의 이름을 입력하세요 : ')\n",
    "student_id = input('학생의 학번을 입력하세요 : ')\n",
    "\n",
    "student = Student(name, student_id)\n",
    "\n",
    "korean_quiz = int(input('학생의 국어 성적을 입력하세요 :'))\n",
    "math_quiz=int(input('학생의 수학 성적을 입력하세요 : '))\n",
    "science_quiz=int(input('학생의 과학 성적을 입력하세요 : '))\n",
    "\n",
    "student.set_korean_quiz(korean_quiz)\n",
    "student.set_math_quiz(math_quiz)\n",
    "student.set_science_quiz(science_quiz)\n",
    "\n",
    "print(student)\n"
   ]
  },
  {
   "cell_type": "code",
   "execution_count": 75,
   "id": "4fc1f402-141f-4baf-821a-4cd28eb022d3",
   "metadata": {},
   "outputs": [
    {
     "name": "stdout",
     "output_type": "stream",
     "text": [
      "r1 = Rectangle: (x = 0, y = 0, w = 100, h = 100), 면적: 10000\n",
      "r2 = Rectangle: (x = 0, y = -10, w = 10, h = 10), 면적: 100\n",
      "r3 = Rectangle: (x = -100, y = 0, w = 120, h = 100), 면적: 12000\n",
      "r1 contains r2: True\n",
      "r1 contains r3: False\n",
      "r1 overlaps r2: True\n",
      "r1 overlaps r3: True\n"
     ]
    }
   ],
   "source": [
    "class Rectangle:\n",
    "    \n",
    "    def __init__(self, x, y, width, height):\n",
    "        self.x = x\n",
    "        self.y = y\n",
    "        self.width = width\n",
    "        self.height = height\n",
    "\n",
    "    def __str__(self):\n",
    "        return 'Rectangle: (x = {}, y = {}, w = {}, h = {}), 면적: {}'\\\n",
    "        .format(self.x, self.y, self.width, self.height, self.area())\n",
    "\n",
    "    def set_x(self, x):\n",
    "        self.x = x\n",
    "\n",
    "    def get_x(self):\n",
    "        return self.x\n",
    "\n",
    "    def set_y(self, y):\n",
    "        self.y = y\n",
    "\n",
    "    def get_y(self):\n",
    "        return self.y\n",
    "\n",
    "    def set_width(self, width):\n",
    "        self.width = width\n",
    "\n",
    "    def get_width(self):\n",
    "        return self.width\n",
    "\n",
    "    def set_height(self, height):\n",
    "        self.height = height\n",
    "\n",
    "    def get_height(self):\n",
    "        return self.height\n",
    "\n",
    "    def area(self):\n",
    "        return self.width * self.height\n",
    "     \n",
    "    def contains(self, r): #r은 다른 직사각형을 뜻함.포함되는\n",
    "        if self.x > r.x or self.y < r.y or self.x + self.width < r.x + r.width or \\\n",
    "        self.y - self.height > r.y - r.height:\n",
    "            return False\n",
    "        else:\n",
    "            return True\n",
    "\n",
    "    def overlaps(self, r): #겹치는지\n",
    "        if self.x > r.x + r.width or self.y < r.y - r.height or \\\n",
    "        self.x + self.width < r.x or self.y - self.height > r.y:\n",
    "            return False\n",
    "        else:\n",
    "            return True\n",
    "\n",
    "\n",
    "r1 = Rectangle(0, 0, 100, 100)\n",
    "r2 = Rectangle(0, -10, 10, 10)\n",
    "r3 = Rectangle(-100, 0, 120, 100)\n",
    "\n",
    "print('r1 =', r1)\n",
    "print('r2 =', r2)\n",
    "print('r3 =', r3)\n",
    "\n",
    "print('r1 contains r2:', r1.contains(r2))\n",
    "print('r1 contains r3:', r1.contains(r3))\n",
    "print('r1 overlaps r2:', r1.overlaps(r2))\n",
    "print('r1 overlaps r3:', r1.overlaps(r3))\n"
   ]
  },
  {
   "cell_type": "code",
   "execution_count": 1,
   "id": "dc87bd78-51c8-4674-b606-426b19995f93",
   "metadata": {},
   "outputs": [
    {
     "name": "stdout",
     "output_type": "stream",
     "text": [
      "슈퍼 클래스\n",
      "서브 클래스\n"
     ]
    }
   ],
   "source": [
    "#class 추가 문제\n",
    "#1) 코드의 실행결과는? 3번 슈퍼클래스 서브클래스\n",
    "# 이유: Sedan이 Car를 상속 받았지만 method를 새로 지정했기 때문.\n",
    "class Car:\n",
    "    def method(self):\n",
    "        print(\"슈퍼 클래스\")\n",
    "\n",
    "class Sedan(Car): \n",
    "    def method(self):\n",
    "        print(\"서브 클래스\")\n",
    "\n",
    "myCar = Car()\n",
    "mySedan = Sedan()\n",
    "myCar.method()\n",
    "mySedan.method()\n"
   ]
  },
  {
   "cell_type": "code",
   "execution_count": 4,
   "id": "63a84766-9074-4000-9b0e-2d190036f378",
   "metadata": {},
   "outputs": [
    {
     "name": "stdout",
     "output_type": "stream",
     "text": [
      "30\n"
     ]
    }
   ],
   "source": [
    "#class 추가 문제\n",
    "#2) Car를 상속받는 RVCar 클래스 정의\n",
    "class Car:\n",
    "    speed = 0\n",
    "\n",
    "    def upSpeed(self,value):\n",
    "        self.speed = self.speed + value\n",
    "        print(self.speed)\n",
    "\n",
    "class RVCar(Car):\n",
    "    seatNum = 0\n",
    "\n",
    "    def getSeatNum(self):\n",
    "        return seatNum\n",
    "\n",
    "myRVCar = RVCar()\n",
    "myRVCar.upSpeed(30)"
   ]
  },
  {
   "cell_type": "code",
   "execution_count": null,
   "id": "7e3d35fe-53fd-4939-8e61-18b2ed7890da",
   "metadata": {},
   "outputs": [],
   "source": []
  }
 ],
 "metadata": {
  "kernelspec": {
   "display_name": "Python 3 (ipykernel)",
   "language": "python",
   "name": "python3"
  },
  "language_info": {
   "codemirror_mode": {
    "name": "ipython",
    "version": 3
   },
   "file_extension": ".py",
   "mimetype": "text/x-python",
   "name": "python",
   "nbconvert_exporter": "python",
   "pygments_lexer": "ipython3",
   "version": "3.11.7"
  }
 },
 "nbformat": 4,
 "nbformat_minor": 5
}
