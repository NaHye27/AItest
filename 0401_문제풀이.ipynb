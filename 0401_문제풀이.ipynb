{
 "cells": [
  {
   "cell_type": "code",
   "execution_count": 6,
   "id": "05b2749d-6143-43aa-a58c-cc41586d53cf",
   "metadata": {},
   "outputs": [
    {
     "name": "stdin",
     "output_type": "stream",
     "text": [
      "1보다는 작고 0 보다 큰 소수를 입력하세요:  0.3\n"
     ]
    },
    {
     "name": "stdout",
     "output_type": "stream",
     "text": [
      "3.0\n"
     ]
    }
   ],
   "source": [
    "#교수님 4.27 문제\n",
    "import numpy as np\n",
    "\n",
    "def unit_fraction(frac):\n",
    "    inv_frac=np.floor(1/frac)\n",
    "    #(1/inv_frac)<=frac<=(1/ inv_frac-1)\n",
    "    \n",
    "    if (frac-1/inv_frac)<(1/(inv_frac-1)-frac):#분모해당되는 숫자가 나옴\n",
    "        return inv_frac\n",
    "    else:\n",
    "        return inv_frac-1\n",
    "\n",
    "a = float(input('1보다는 작고 0 보다 큰 소수를 입력하세요: '))\n",
    "b=unit_fraction(a)\n",
    "\n",
    "#print('1/',b,'이며')\n",
    "print(b)"
   ]
  },
  {
   "cell_type": "code",
   "execution_count": 10,
   "id": "993aa054-8c45-4357-8a46-e7fa5e9e451a",
   "metadata": {},
   "outputs": [
    {
     "name": "stdout",
     "output_type": "stream",
     "text": [
      "aabbbccccccaacccfg"
     ]
    }
   ],
   "source": [
    "#5.21 샹 뭐라는거야.\n",
    "src='a2b3c6a2c3f1g1'\n",
    "#캐릭터 나오고 숫자가 나옴\n",
    "for ch in src:\n",
    "    if ch.isnumeric():#ch가 넘버면\n",
    "        for i in range(int(ch)):#넘버면 인트제로 바꾸고\n",
    "            print(ch_old,end='')#줄바꿈하지 말고 연결해서??\n",
    "    else:\n",
    "        ch_old=ch\n",
    "\n",
    "#숫자면 if문 실행, 문자면 else문 실행."
   ]
  },
  {
   "cell_type": "code",
   "execution_count": 12,
   "id": "52dacd19-d85c-46d0-b77d-6714c9f6769a",
   "metadata": {},
   "outputs": [
    {
     "name": "stdin",
     "output_type": "stream",
     "text": [
      "숫자를 입력하세요:  11,8,99,52,45,1,45,44\n"
     ]
    },
    {
     "name": "stdout",
     "output_type": "stream",
     "text": [
      "결과 : [99, 52, 45, 45, 44, 11, 8, 1]\n"
     ]
    }
   ],
   "source": [
    "#교수님 제작 문제\n",
    "#sort\n",
    "#임의의 숫자 압력받아서 내립차순으로 프린트하는 거\n",
    "#4.15 참고\n",
    "def my_sort(nums):\n",
    "    nums.sort(reverse=True)#리버스가 내림차순으로 바꿔주는거.\n",
    "    return nums\n",
    "\n",
    "nums = list(map(int,input('숫자를 입력하세요: ').split(',')))\n",
    "sort_n=my_sort(nums)\n",
    "\n",
    "print('결과 :',sort_n)"
   ]
  },
  {
   "cell_type": "code",
   "execution_count": 17,
   "id": "0462e7f4-68f9-4c03-8a6f-d3b2af66628d",
   "metadata": {},
   "outputs": [],
   "source": [
    "#교수님 풀이\n",
    "import numpy as np\n",
    "\n",
    "i_list=[1,2,3,5,4,0]\n",
    "o_list=[]\n",
    "ilen=len(i_list)\n",
    "\n",
    "for i in range(len(i_list)):\n",
    "    imin=np.min(i_list)\n",
    "    o_list.append(imin)\n",
    "    i_list.remove(imin) #o리스트 채우면서 i리스트는 지우는 거 \n",
    "#시간이 오래 걸림\n"
   ]
  },
  {
   "cell_type": "code",
   "execution_count": 21,
   "id": "a3647f86-4d0d-4f0b-9371-36a19b06556f",
   "metadata": {},
   "outputs": [
    {
     "name": "stdout",
     "output_type": "stream",
     "text": [
      "[0, 1, 2, 3, 4, 5]\n"
     ]
    }
   ],
   "source": [
    "i_list=[1,2,3,5,4,0]\n",
    "o_list=[]\n",
    "i_len=len(i_list)\n",
    "\n",
    "for i in range(ilen):\n",
    "    for j in range(ilen-i-1): #i를 한개 돌리면 하나 빼야 중복이 안됨..?\n",
    "        if i_list[j]>i_list[j+1]:\n",
    "            tmp = i_list[j+1]\n",
    "            i_list[j+1]=i_list[j]\n",
    "            i_list[j]=tmp\n",
    "\n",
    "print(i_list)\n",
    "\n",
    "#binavy sort\n",
    "#bubble sort\n",
    "#Quick sort"
   ]
  },
  {
   "cell_type": "code",
   "execution_count": 15,
   "id": "fb37b193-1c6d-48c6-9f8e-285eb368c93a",
   "metadata": {},
   "outputs": [
    {
     "name": "stdout",
     "output_type": "stream",
     "text": [
      "[1, 2, 4, 6, 9]\n"
     ]
    }
   ],
   "source": [
    "#완성본\n",
    "i_list=[9,4,6,2,1]\n",
    "\n",
    "ilen=len(i_list)\n",
    "for i in range(ilen): #아이가 랭스만큼 돌아감.\n",
    "    for j in range(ilen-i-1): #i를 한개 돌리면 하나 빼야 중복이 안됨..?\n",
    "        if i_list[j]>i_list[j+1]:#왼쪽이 크면 자리바꿈\n",
    "            tmp = i_list[j+1]\n",
    "            i_list[j+1]=i_list[j]\n",
    "            i_list[j]=tmp\n",
    "\n",
    "print(i_list)"
   ]
  },
  {
   "cell_type": "code",
   "execution_count": null,
   "id": "48b1a3b5-3a71-4fc4-b730-91afe9fca0c1",
   "metadata": {},
   "outputs": [],
   "source": []
  }
 ],
 "metadata": {
  "kernelspec": {
   "display_name": "Python 3 (ipykernel)",
   "language": "python",
   "name": "python3"
  },
  "language_info": {
   "codemirror_mode": {
    "name": "ipython",
    "version": 3
   },
   "file_extension": ".py",
   "mimetype": "text/x-python",
   "name": "python",
   "nbconvert_exporter": "python",
   "pygments_lexer": "ipython3",
   "version": "3.11.7"
  }
 },
 "nbformat": 4,
 "nbformat_minor": 5
}
