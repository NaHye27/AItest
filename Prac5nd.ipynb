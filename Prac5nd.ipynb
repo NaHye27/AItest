{
 "cells": [
  {
   "cell_type": "code",
   "execution_count": 10,
   "id": "f4a1f293-0326-4612-b2e4-aaf937270f12",
   "metadata": {},
   "outputs": [
    {
     "data": {
      "text/plain": [
       "7"
      ]
     },
     "execution_count": 10,
     "metadata": {},
     "output_type": "execute_result"
    }
   ],
   "source": [
    "#5.1\n",
    "list_ex=[10,20,30,40,50,60,70]\n",
    "high=5\n",
    "low=3\n",
    "#1) \n",
    "list_ex[low] #40\n",
    "#2)\n",
    "list_ex[low+2] #60\n",
    "#3)\n",
    "list_ex[high-low] #30\n",
    "#4)\n",
    "list_ex[low-high] #60\n",
    "#5)\n",
    "list_ex[-1] #70\n",
    "#6)\n",
    "list_ex[-low] #50\n",
    "#7)\n",
    "list_ex[2*3] #70\n",
    "#8)\n",
    "list_ex[2]*3 #27,000 틀림~!정신차려 곱하기3이야.\n",
    "#9)\n",
    "list_ex[5%4] #나머지인지 20!\n",
    "#10)\n",
    "len(list_ex) #7"
   ]
  },
  {
   "cell_type": "code",
   "execution_count": 13,
   "id": "b11b171c-ca27-4431-a97e-d53bb8c0a001",
   "metadata": {},
   "outputs": [
    {
     "name": "stdout",
     "output_type": "stream",
     "text": [
      "3 * 2 = 6\n",
      "3 * 3 = 9\n",
      "3 * 4 = 12\n",
      "3 * 5 = 15\n",
      "3 * 6 = 18\n",
      "5 * 2 = 10\n",
      "5 * 3 = 15\n",
      "5 * 4 = 20\n",
      "5 * 5 = 25\n",
      "5 * 6 = 30\n",
      "7 * 2 = 14\n",
      "7 * 3 = 21\n",
      "7 * 4 = 28\n",
      "7 * 5 = 35\n",
      "7 * 6 = 42\n"
     ]
    }
   ],
   "source": [
    "#5.3 이중 for 구구단?\n",
    "\n",
    "list1=[3,5,7]\n",
    "list2=[2,3,4,5,6]\n",
    "\n",
    "for i in list1:\n",
    "    for j in list2:\n",
    "        #print(i,'*',j,'=',i*j)\n",
    "        print('{} * {} = {}'.format(i,j,i*j))"
   ]
  },
  {
   "cell_type": "code",
   "execution_count": 17,
   "id": "27a25bcc-7d88-4104-801a-a9491a5941a0",
   "metadata": {},
   "outputs": [
    {
     "name": "stdout",
     "output_type": "stream",
     "text": [
      "I like pancakes\n",
      "I like kiwi juice\n",
      "I like espresso\n",
      "I love pancakes\n",
      "I love kiwi juice\n",
      "I love espresso\n",
      "I like pancakes\n",
      "I like kiwi juice\n",
      "I like espresso\n",
      "I love pancakes\n",
      "I love kiwi juice\n",
      "I love espresso\n"
     ]
    }
   ],
   "source": [
    "#5.5 list조합\n",
    "\n",
    "list1=['I like','I love']\n",
    "list2=['pancakes','kiwi juice','espresso']\n",
    "\n",
    "print(list1[0],list2[0])\n",
    "print(list1[0],list2[1])\n",
    "print(list1[0],list2[2])\n",
    "print(list1[1],list2[0])\n",
    "print(list1[1],list2[1])\n",
    "print(list1[1],list2[2])\n",
    "\n",
    "for i in list1:\n",
    "    for j in list2:\n",
    "        print('{} {}'.format(i,j))"
   ]
  },
  {
   "cell_type": "code",
   "execution_count": 23,
   "id": "adf99873-9781-4a1c-932c-6368935c9d2a",
   "metadata": {},
   "outputs": [
    {
     "name": "stdout",
     "output_type": "stream",
     "text": [
      "리스트 원소들: [10, 20, 30, 50, 60]\n",
      "리스트 원소들의 합: 170\n"
     ]
    }
   ],
   "source": [
    "#5.7 sum(n_list)를 사용하지 않고 5개 원소 합\n",
    "n_list=[10,20,30,50,60]\n",
    "t_sum=0 #밖으로 빼야 for문에서 초기화가 안됨.\n",
    "\n",
    "for i in n_list:\n",
    "    t_sum+=i\n",
    "\n",
    "print('리스트 원소들:',n_list)\n",
    "print('리스트 원소들의 합:',t_sum)\n"
   ]
  },
  {
   "cell_type": "code",
   "execution_count": 25,
   "id": "8b66bb59-5d69-4e9d-91d0-ea27985c365c",
   "metadata": {},
   "outputs": [
    {
     "name": "stdout",
     "output_type": "stream",
     "text": [
      "리스트 원소들: [10, 20, 30, 50, 60]\n",
      "리스트 원소들 중 최댓값: 60\n"
     ]
    }
   ],
   "source": [
    "#5.9 가장 큰 값을 max()사용하지말고 구현\n",
    "n_list=[10,20,30,50,60]\n",
    "l_max=0\n",
    "\n",
    "for i in n_list:\n",
    "    if i>l_max:\n",
    "        l_max=i\n",
    "\n",
    "print('리스트 원소들:',n_list)\n",
    "print('리스트 원소들 중 최댓값:',l_max)"
   ]
  },
  {
   "cell_type": "code",
   "execution_count": 26,
   "id": "6fe9d631-8265-4dcb-a3c6-1ed7b81cec9b",
   "metadata": {},
   "outputs": [
    {
     "name": "stdin",
     "output_type": "stream",
     "text": [
      "5개의 수를 입력하세요:  45 67 20 34 2\n"
     ]
    },
    {
     "name": "stdout",
     "output_type": "stream",
     "text": [
      "합: 168\n",
      "평균: 33.6\n",
      "최댓값: 67\n",
      "최솟값: 2\n"
     ]
    }
   ],
   "source": [
    "#5.11\n",
    "#사용자로 5개 수 입력, 합.평균.최댓값.최솟값 출력\n",
    "\n",
    "n_list=list(map(int,input('5개의 수를 입력하세요: ').split()))\n",
    "\n",
    "print('합:',sum(n_list))\n",
    "print('평균:',sum(n_list)/len(n_list))\n",
    "print('최댓값:',max(n_list))\n",
    "print('최솟값:',min(n_list))\n",
    "\n"
   ]
  },
  {
   "cell_type": "code",
   "execution_count": 28,
   "id": "4d6c6382-a255-49d4-b4da-c425f9c27c94",
   "metadata": {},
   "outputs": [
    {
     "name": "stdin",
     "output_type": "stream",
     "text": [
      "10개의 수를 입력하세요:  45 67 20 34 2 100 23 45 67 89\n"
     ]
    },
    {
     "name": "stdout",
     "output_type": "stream",
     "text": [
      "합: 492\n",
      "평균: 49.2\n",
      "표준편차: 29.71800800861323\n"
     ]
    }
   ],
   "source": [
    "#5.13 \n",
    "#n개의 값 입력 후 평균.표준편차를 구해라\n",
    "n_list=list(map(int,input('10개의 수를 입력하세요: ').split()))\n",
    "\n",
    "print('합:',sum(n_list))\n",
    "n_mean=sum(n_list)/len(n_list)\n",
    "print('평균:',n_mean)\n",
    "\n",
    "n_sigma=0\n",
    "for i in n_list:\n",
    "    n_sigma+=(i-n_mean)**2\n",
    "    \n",
    "print('표준편차:',(n_sigma/len(n_list))**0.5)"
   ]
  },
  {
   "cell_type": "code",
   "execution_count": 30,
   "id": "9c5540e2-6077-452c-8de5-b9140f8ed886",
   "metadata": {},
   "outputs": [
    {
     "name": "stdout",
     "output_type": "stream",
     "text": [
      "Have\n",
      "beatiful\n",
      "day\n"
     ]
    }
   ],
   "source": [
    "#5.15\n",
    "#슬라이싱\n",
    "greet='Have a beatiful day'\n",
    "#Have\n",
    "print(greet[0:4])\n",
    "#beatiful\n",
    "print(greet[7:15])\n",
    "#day\n",
    "print(greet[16:20])"
   ]
  },
  {
   "cell_type": "code",
   "execution_count": 37,
   "id": "9716f35f-cc8f-48d9-96c0-131e3f2d42b8",
   "metadata": {},
   "outputs": [
    {
     "name": "stdout",
     "output_type": "stream",
     "text": [
      "animals = ['dog', 'cat', 'tiger', 'lion']\n",
      "animals = ['cat', 'tiger', 'lion', 'dog']\n",
      "I love dog\n",
      "I love cat\n",
      "I love tiger\n",
      "I love lion\n"
     ]
    }
   ],
   "source": [
    "#5.17\n",
    "#1) 리스트 만들고 출력\n",
    "animals=['dog','cat','tiger','lion']\n",
    "print('animals =',animals)\n",
    "\n",
    "#2) dog은 가장 오른쪽에 위치하게 왼쪽으로 한 칸씩 밀기\n",
    "s_animals=animals[1:]+[animals[0]] # 슬라이싱으로 새 리스트와 +[animals[0]]은 ['dog']\n",
    "print('animals =',s_animals)\n",
    "\n",
    "#3) for -in\n",
    "for i in animals:\n",
    "    print('I love',i)\n"
   ]
  },
  {
   "cell_type": "code",
   "execution_count": 49,
   "id": "1a6f248f-2271-43d7-a5a5-510127db528f",
   "metadata": {},
   "outputs": [
    {
     "name": "stdout",
     "output_type": "stream",
     "text": [
      "['abc', 'bcd', 'abba', 'cddc', 'opq']\n"
     ]
    }
   ],
   "source": [
    "#5.19\n",
    "#중복 문자열 제거후 새 리스트\n",
    "s_list=['abc','bcd','abc','abba','cddc','opq','opq']\n",
    "\n",
    "new_s_list=[]\n",
    "for i in s_list:\n",
    "    if i not in new_s_list: #뉴리스트에 없으면.추가하라.\n",
    "        new_s_list.append(i)\n",
    "        \n",
    "print(new_s_list)"
   ]
  },
  {
   "cell_type": "code",
   "execution_count": 51,
   "id": "8e7d027a-bc1d-4641-8065-d277e4186847",
   "metadata": {},
   "outputs": [
    {
     "name": "stdout",
     "output_type": "stream",
     "text": [
      "aabbbccccccaacccfg"
     ]
    }
   ],
   "source": [
    "#5.21\n",
    "src='a2b3c6a2c3f1g1'\n",
    "#캐릭터 나오고 숫자가 나옴\n",
    "ch_old=''\n",
    "for ch in src:\n",
    "    if ch.isnumeric():#ch가 넘버면\n",
    "        for i in range(int(ch)):#넘버면 인트제로 바꾸고,그 문자를 정수로 변환한 값만큼 반복하여 해당 문자를 출력\n",
    "            print(ch_old,end='')#줄바꿈하지 말고 연결해서??\n",
    "    else:\n",
    "        ch_old=ch\n",
    "\n",
    "#숫자면 if문 실행, 문자면 else문 실행."
   ]
  },
  {
   "cell_type": "code",
   "execution_count": 72,
   "id": "e2276a74-f009-4584-a4e8-9daea08ed9f5",
   "metadata": {},
   "outputs": [
    {
     "name": "stdout",
     "output_type": "stream",
     "text": [
      "3명의 정보가 담겨 있습니다.\n",
      "평균나이는26.75세 입니다.\n",
      "리스트에는 남자가 3 명, 여자가 1 명입니다.\n",
      "['온달', 20, 1, 180.0, 100.0]\n",
      "['이사부', 25, 1, 170.0, 70.0]\n",
      "['평강', 22, 0, 169.0, 60.0]\n",
      "['혁거세', 40, 1, 150.0, 50.0]\n"
     ]
    }
   ],
   "source": [
    "#5.23\n",
    "# 몇명의 정보가 담겨있는지\n",
    "\n",
    "person1=['온달',20,1,180.0,100.0]\n",
    "person2=['이사부',25,1,170.0,70.0]\n",
    "person3=['평강',22,0,169.0,60.0]\n",
    "person4=['혁거세',40,1,150.0,50.0]\n",
    "\n",
    "person_list1= person1+person3+person4\n",
    "person_list2= person1+person2+person3+person4\n",
    "\n",
    "\n",
    "#(1)\n",
    "def how_many_person(list):\n",
    "    return int(len(list)/5) #인당 5개여서 수를 5로 나눔.\n",
    "\n",
    "n_persons= how_many_person(person_list1)\n",
    "print(str(n_persons)+'명의 정보가 담겨 있습니다.')\n",
    "\n",
    "# 평균나이\n",
    "#(2)\n",
    "def compute_average_ave(person_list):\n",
    "    n=int(len(person_list)/5) #사람수 구하기 한사람이 5개 항목\n",
    "    sage=0\n",
    "    for i in range(n):\n",
    "        sage += person_list[5*i + 1] #index 1 이 나이,각 리스트에서 나이 위치를 지정 후 더함.\n",
    "    return sage/n\n",
    "\n",
    "average_age = compute_average_ave(person_list2)\n",
    "print('평균나이는'+str(average_age)+'세 입니다.')\n",
    "\n",
    "#성별\n",
    "#(3)\n",
    "def count_males_females(person_list):\n",
    "    n=int(len(person_list)/5) #사람수 구하기\n",
    "    cnt=0\n",
    "    for i in range(n):\n",
    "        cnt += person_list[5*i + 2] #index 2 가 성명 남자 수만 카운트 됨(여자의 값은 0이라서 더해도 0임.)\n",
    "    return cnt,n-cnt #전체 인원에서 남자수를 뺍 수가 여자수\n",
    "\n",
    "n_male,n_female=count_males_females(person_list2)\n",
    "print('리스트에는 남자가',n_male,'명, 여자가',n_female,'명입니다.')\n",
    "\n",
    "#각각의 정보를 사람별로 분리해 출력\n",
    "#(4)\n",
    "def display_perseon(person_list):\n",
    "    Olist=[]\n",
    "    mlist=[]\n",
    "    for i in range(len(person_list)):\n",
    "        mlist.append(person_list[i])#현재사람의 정보를 실시간으로 추가.\n",
    "        if (i+1)%5 == 0: #한사람 분이 모였으면\n",
    "             Olist.append(mlist) #Olist에 한번에 추가후\n",
    "             mlist=[] #비움.\n",
    "    return Olist #이걸 4번 반복하면 각각의 리스트 형성됨.\n",
    "\n",
    "for person_info in display_perseon(person_list):\n",
    "    print(person_info)\n"
   ]
  },
  {
   "cell_type": "code",
   "execution_count": null,
   "id": "7eed0705-6bf3-488e-bc9b-90b1bdff8cfd",
   "metadata": {},
   "outputs": [],
   "source": []
  }
 ],
 "metadata": {
  "kernelspec": {
   "display_name": "Python 3 (ipykernel)",
   "language": "python",
   "name": "python3"
  },
  "language_info": {
   "codemirror_mode": {
    "name": "ipython",
    "version": 3
   },
   "file_extension": ".py",
   "mimetype": "text/x-python",
   "name": "python",
   "nbconvert_exporter": "python",
   "pygments_lexer": "ipython3",
   "version": "3.11.7"
  }
 },
 "nbformat": 4,
 "nbformat_minor": 5
}
