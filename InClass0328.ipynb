{
 "cells": [
  {
   "cell_type": "code",
   "execution_count": 20,
   "id": "dc925c37-46d3-4659-a79e-b28782281df0",
   "metadata": {},
   "outputs": [
    {
     "name": "stdout",
     "output_type": "stream",
     "text": [
      "87\n",
      "84\n",
      "95\n",
      "67\n",
      "88\n",
      "94\n",
      "63\n"
     ]
    },
    {
     "data": {
      "text/plain": [
       "[87, 84, 95, 67, 88]"
      ]
     },
     "execution_count": 20,
     "metadata": {},
     "output_type": "execute_result"
    }
   ],
   "source": [
    "#리스트사용\n",
    "\n",
    "score_list =[87,84,95,67,88,94,63]\n",
    "\n",
    "for m in score_list:\n",
    "    print(m)\n",
    "\n",
    "score_list[0:5]\n"
   ]
  },
  {
   "cell_type": "code",
   "execution_count": 23,
   "id": "7814fc04-b956-4869-a161-b03d047c7af4",
   "metadata": {},
   "outputs": [
    {
     "name": "stdout",
     "output_type": "stream",
     "text": [
      "바나나\n",
      "키위\n"
     ]
    }
   ],
   "source": [
    "fruits =['바나나','키위']\n",
    "\n",
    "for m in fruits:\n",
    "    print(m)\n"
   ]
  },
  {
   "cell_type": "code",
   "execution_count": 3,
   "id": "ce0c683f-79f6-473a-b8f2-6cdc354c2556",
   "metadata": {},
   "outputs": [
    {
     "name": "stdout",
     "output_type": "stream",
     "text": [
      "[0, 1, 2, 3, 4, 5, 6, 7, 8]\n"
     ]
    }
   ],
   "source": [
    "a= list(range(0,9))\n",
    "print(a)"
   ]
  },
  {
   "cell_type": "code",
   "execution_count": 1,
   "id": "c7892090-16fe-4e89-b24e-625347c82c8b",
   "metadata": {},
   "outputs": [
    {
     "data": {
      "text/plain": [
       "[87, 84, 95, 67, 88]"
      ]
     },
     "execution_count": 1,
     "metadata": {},
     "output_type": "execute_result"
    }
   ],
   "source": [
    "#리스트변수 인덱스\n",
    "score_list = [87,84,95,67,88,94,63]\n",
    "\n",
    "score_list[0:5] #0부터 5미만까지.\n"
   ]
  },
  {
   "cell_type": "code",
   "execution_count": 5,
   "id": "45e91ec3-1a61-43ae-82a2-c9fe9fa23c6f",
   "metadata": {},
   "outputs": [
    {
     "data": {
      "text/plain": [
       "[11, 22]"
      ]
     },
     "execution_count": 5,
     "metadata": {},
     "output_type": "execute_result"
    }
   ],
   "source": [
    "#음수 인덱스\n",
    "n_list =[11,22,33,44,55,66]\n",
    "\n",
    "n_list[-1] #오른쪽 부터 -1시작. -7은 오류 남.\n",
    "n_list[-6:-4] #66과55 사이가 -1 인터페이스.\n"
   ]
  },
  {
   "cell_type": "code",
   "execution_count": 6,
   "id": "51d28537-cd27-44ca-a44c-ae8bf1429b47",
   "metadata": {},
   "outputs": [
    {
     "name": "stdout",
     "output_type": "stream",
     "text": [
      "[11, 22, 33]\n",
      "[11, 22, 33, 44]\n"
     ]
    }
   ],
   "source": [
    "a=[11,22,33]\n",
    "print(a)\n",
    "a.append(44)\n",
    "print(a)\n"
   ]
  },
  {
   "cell_type": "code",
   "execution_count": 8,
   "id": "eb441b21-9ffc-44b2-b8da-9b24dbd3df48",
   "metadata": {},
   "outputs": [
    {
     "name": "stdout",
     "output_type": "stream",
     "text": [
      "[0, 10, 20, 30, 40, 50, 60, 70, 80, 90]\n",
      "[0, 10, 20, 30, 40, 50, 60, 70, 80]\n",
      "90\n"
     ]
    }
   ],
   "source": [
    "a=[]\n",
    "\n",
    "for i in range(10):\n",
    "    a.append(i*10)\n",
    "\n",
    "print(a)\n",
    "\n",
    "b =a.pop() #젤 뒤의 값 리턴하고 없애줌.\n",
    "\n",
    "print(a)\n",
    "print(b)"
   ]
  },
  {
   "cell_type": "code",
   "execution_count": null,
   "id": "02247233-6953-4e61-ab53-65c158e42e87",
   "metadata": {},
   "outputs": [],
   "source": [
    "#리스트변수 삭제\n",
    "#del, remove 사용\n",
    "# pop:맨 뒤에것 지움"
   ]
  },
  {
   "cell_type": "code",
   "execution_count": 9,
   "id": "2009cb05-6f8d-4693-8797-276b9a82ec65",
   "metadata": {},
   "outputs": [
    {
     "name": "stdout",
     "output_type": "stream",
     "text": [
      "리스트에 바나나가 존재\n"
     ]
    }
   ],
   "source": [
    "fruits =['바나나','키위']\n",
    "\n",
    "if '바나나'in fruits:\n",
    "    print('리스트에 바나나가 존재')"
   ]
  },
  {
   "cell_type": "code",
   "execution_count": 24,
   "id": "54dda296-164b-4e23-bd91-87c5770e4e15",
   "metadata": {},
   "outputs": [],
   "source": [
    "#min은 맨앞에 있는거, max는 맨뒤에 있는거"
   ]
  },
  {
   "cell_type": "code",
   "execution_count": 12,
   "id": "16235398-2eb5-4826-a568-8b4d0009cc9f",
   "metadata": {},
   "outputs": [
    {
     "name": "stdout",
     "output_type": "stream",
     "text": [
      "[50, 40, 30, 20, 10]\n"
     ]
    }
   ],
   "source": [
    "#내림차순\n",
    "list1=[20,10,40,50,30]\n",
    "list1.sort(reverse=True) #리버스걸면 역순 reverse()와 같은 결과임\n",
    "#list2= sorted(list1)\n",
    "\n",
    "print(list1)\n",
    "\n",
    "#오름차순은 sort()"
   ]
  },
  {
   "cell_type": "code",
   "execution_count": 10,
   "id": "99a5cb5d-2a72-4e87-9d5c-8a5bd103449d",
   "metadata": {},
   "outputs": [
    {
     "name": "stdout",
     "output_type": "stream",
     "text": [
      "1\n"
     ]
    }
   ],
   "source": [
    "#count\n",
    "list1=[20,10,40,50,30]\n",
    "nc=list1.count(20)\n",
    "print(nc)"
   ]
  },
  {
   "cell_type": "code",
   "execution_count": 11,
   "id": "562c5f66-3fce-4a2b-a3f2-c0d9582d3fb6",
   "metadata": {},
   "outputs": [
    {
     "name": "stdout",
     "output_type": "stream",
     "text": [
      "['a', 'b', 10, 20]\n"
     ]
    }
   ],
   "source": [
    "#extend 사용해 두개 합치는거\n",
    "#append()는 리스트 맨 뒤에\n",
    "list1=['a','b']\n",
    "list2=[10,20]\n",
    "list3=list1+list2\n",
    "print(list3) #그냥 가져다 붙임.상관안씀"
   ]
  },
  {
   "cell_type": "code",
   "execution_count": 14,
   "id": "8794fdad-8323-4ad7-badf-7fe0a010d69d",
   "metadata": {},
   "outputs": [
    {
     "data": {
      "text/plain": [
       "['a', 'b', 'a', 'b', 'a', 'b']"
      ]
     },
     "execution_count": 14,
     "metadata": {},
     "output_type": "execute_result"
    }
   ],
   "source": [
    "#리스트 곱하기\n",
    "list1=['a','b']\n",
    "list1*3"
   ]
  },
  {
   "cell_type": "code",
   "execution_count": 16,
   "id": "d3352db3-664d-4c58-a844-fec93de39ba9",
   "metadata": {},
   "outputs": [
    {
     "name": "stdout",
     "output_type": "stream",
     "text": [
      "[10 20]\n",
      "[[10 20]\n",
      " [30 40]]\n",
      "[ 700 1000]\n"
     ]
    }
   ],
   "source": [
    "#행렬곱하기는 numpy 사용('@'를 이용함)\n",
    "import numpy as np\n",
    "\n",
    "a= np.array([10,20])\n",
    "b= np.array([[10,20],[30,40]])\n",
    "print(a)\n",
    "print(b)\n",
    "\n",
    "c= a@b\n",
    "print(c)"
   ]
  },
  {
   "cell_type": "code",
   "execution_count": 17,
   "id": "f95b8e60-4c65-4990-89c3-5540d90ab9b3",
   "metadata": {},
   "outputs": [
    {
     "name": "stdout",
     "output_type": "stream",
     "text": [
      "False\n"
     ]
    }
   ],
   "source": [
    "list1=[1,2,3,4]\n",
    "list2=[2,3,3,4]\n",
    "print(list1>list2)#튜플(tuple)은 연산이 불가능\n"
   ]
  },
  {
   "cell_type": "code",
   "execution_count": 26,
   "id": "f9162a81-1c50-420c-9232-c852a2f22c54",
   "metadata": {},
   "outputs": [
    {
     "name": "stdout",
     "output_type": "stream",
     "text": [
      "[100, 200, 300, 400, 500]\n"
     ]
    }
   ],
   "source": [
    "#for문을 사용하여 list 만들기\n",
    "\n",
    "list1 = [n*10 for n in range(10,60,10)]\n",
    "print(list1)"
   ]
  },
  {
   "cell_type": "code",
   "execution_count": 19,
   "id": "fb1ff860-4c1b-424e-8114-c8a7d2d9951b",
   "metadata": {},
   "outputs": [
    {
     "name": "stdout",
     "output_type": "stream",
     "text": [
      "[100, 200, 300, 400, 500]\n",
      "[100, 300, 500]\n"
     ]
    }
   ],
   "source": [
    "list1=[10,20,30,40,50] #없어도 됨\n",
    "\n",
    "list1=[n*10 for n in range(10,60,10)]\n",
    "print(list1)\n",
    "print(list1[0:5:2])"
   ]
  },
  {
   "cell_type": "code",
   "execution_count": null,
   "id": "71efc11a-9f8d-4e40-98f1-1c122f5c7402",
   "metadata": {},
   "outputs": [],
   "source": []
  }
 ],
 "metadata": {
  "kernelspec": {
   "display_name": "Python 3 (ipykernel)",
   "language": "python",
   "name": "python3"
  },
  "language_info": {
   "codemirror_mode": {
    "name": "ipython",
    "version": 3
   },
   "file_extension": ".py",
   "mimetype": "text/x-python",
   "name": "python",
   "nbconvert_exporter": "python",
   "pygments_lexer": "ipython3",
   "version": "3.11.7"
  }
 },
 "nbformat": 4,
 "nbformat_minor": 5
}
