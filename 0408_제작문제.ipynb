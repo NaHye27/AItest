{
 "cells": [
  {
   "cell_type": "code",
   "execution_count": 15,
   "id": "994a4a7c-88b9-4b68-8ba1-39c6b307b0d3",
   "metadata": {},
   "outputs": [
    {
     "name": "stdout",
     "output_type": "stream",
     "text": [
      "-999번째 날입니다\n"
     ]
    }
   ],
   "source": [
    "# 2000년 1월 1일부터 날수 세기\n",
    "def julian(year,month,day):\n",
    "    if year>=2000 and year <2024:\n",
    "        days=0\n",
    "        days=days*365\n",
    "        if month>=1 and month<=12:\n",
    "            days=days*30\n",
    "            if day>=1 and day<=30:\n",
    "                days=days+1\n",
    "        return 100\n",
    "    else:\n",
    "        return -999\n",
    "    \n",
    "        \n",
    "days=julian(2024,4,8)\n",
    "print(\"{}번째 날입니다\".format(days))\n",
    "\n",
    "#인풋 숫자끼리 맞추고 아웃풋 숫자=리턴 숫자"
   ]
  },
  {
   "cell_type": "code",
   "execution_count": 16,
   "id": "dd09fc91-61ef-417a-99db-640fa5fe31dc",
   "metadata": {},
   "outputs": [
    {
     "name": "stdout",
     "output_type": "stream",
     "text": [
      "100번째 날입니다\n"
     ]
    }
   ],
   "source": [
    "# 2000년 1월 1일부터 날수 세기\n",
    "def julian(year,month,day):\n",
    "    if year>=2000 and year <2024:\n",
    "        days=0\n",
    "        days=days*365\n",
    "        if month>=1 and month<=12:\n",
    "            days=days*30\n",
    "            if day>=1 and day<=30:\n",
    "                days=days+1\n",
    "        return 100\n",
    "    else:\n",
    "        return -999\n",
    "    \n",
    "        \n",
    "days=julian(2023,4,8)\n",
    "print(\"{}번째 날입니다\".format(days))\n",
    "\n",
    "#year의 범위가 포함되어있어서.함수를 짜놓으면 할때마다 바꿀 필요 없다\n"
   ]
  },
  {
   "cell_type": "code",
   "execution_count": 20,
   "id": "6d8374b1-d155-4594-9774-96bde927c39f",
   "metadata": {},
   "outputs": [
    {
     "name": "stdout",
     "output_type": "stream",
     "text": [
      "8492번째 날입니다\n"
     ]
    }
   ],
   "source": [
    "# 2000년 1월 1일부터 날수 세기\n",
    "def julian(year,month,day):\n",
    "    if year>=2000 and year <2024:\n",
    "        return (year-2000)*365 + (month-1)*30 + (day-1) #2000.1.1을 1일로 시작.달은 안지나서 빼기\n",
    "\n",
    "    else:\n",
    "        return -999\n",
    "    \n",
    "        \n",
    "days=julian(2023,4,8)\n",
    "print(\"{}번째 날입니다\".format(days))\n",
    "\n",
    "#year의 범위가 포함되어있어서.함수를 짜놓으면 할때마다 바꿀 필요 없다\n"
   ]
  },
  {
   "cell_type": "code",
   "execution_count": 23,
   "id": "b027d465-beea-4bc4-87b8-f1f10ebfd95f",
   "metadata": {},
   "outputs": [
    {
     "name": "stdout",
     "output_type": "stream",
     "text": [
      "8515번째 날입니다\n"
     ]
    }
   ],
   "source": [
    "# 2000년 1월 1일부터 날수 세기\n",
    "def julian(year,month,day):\n",
    "    if year>=2000 and year <2024:\n",
    "        jdays = 0\n",
    "        jdays = (year-2000)*365 #윤년 제외 년수 측정\n",
    "\n",
    "        for m in range(1,month):\n",
    "            if m ==1 or m==3 or m==5 or m==7 or m==8 or m==10 or m==12: \n",
    "                jdays = jdays + 31\n",
    "            elif m== 2:\n",
    "                jdays = jdays + 28\n",
    "            else:\n",
    "                jdays = jdays + 30\n",
    "            \n",
    "\n",
    "        \n",
    "        \n",
    "        return jdays\n",
    "    else:\n",
    "        return -999\n",
    "    \n",
    "        \n",
    "days=julian(2023,5,1) #jdays의 값이 됨.\n",
    "print(\"{}번째 날입니다\".format(days))\n",
    "\n",
    "#year의 범위가 포함되어있어서.함수를 짜놓으면 할때마다 바꿀 필요 없다\n"
   ]
  },
  {
   "cell_type": "code",
   "execution_count": 43,
   "id": "d908e43b-3b3f-4d5f-a8fc-b4db79b2e7c8",
   "metadata": {},
   "outputs": [
    {
     "name": "stdout",
     "output_type": "stream",
     "text": [
      "208번째 날입니다\n"
     ]
    }
   ],
   "source": [
    "# 2000년 1월 1일부터 날수 세기\n",
    "def julian(year,month,day):\n",
    "    if year>=2000 and year <2024:\n",
    "        jdays = 0\n",
    "\n",
    "        for y in range(2000,year): #윤년 계산\n",
    "            if y%4 ==0 and y%100 !=0 or y%400 ==0:\n",
    "                jdays+= 366\n",
    "            else:\n",
    "                jdays+= 365\n",
    "        \n",
    "        for m in range(1,month):\n",
    "            if m ==4 or m==6 or m==9 or m==11: #30일인 달을 모은 것.\n",
    "                jdays = jdays + 30\n",
    "            elif m== 2:\n",
    "                if year%4 ==0 and year%100 !=0 or year%400 ==0:\n",
    "                    jdays = jdays + 29\n",
    "                else:\n",
    "                    jdays = jdays + 28\n",
    "            else:\n",
    "                jdays = jdays + 31\n",
    "        jdays += day #지정한 달의 일수\n",
    "        return jdays\n",
    "    else:\n",
    "        return -999\n",
    "    \n",
    "    \n",
    "days=julian(2000,1,1) #jdays의 값이 됨.\n",
    "print(\"{}번째 날입니다\".format(days))\n",
    "\n",
    "#year의 범위가 포함되어있어서.함수를 짜놓으면 할때마다 바꿀 필요 없다\n"
   ]
  },
  {
   "cell_type": "code",
   "execution_count": 47,
   "id": "ad351e99-6967-45cf-a9e5-a33f8faff6b2",
   "metadata": {},
   "outputs": [
    {
     "name": "stdin",
     "output_type": "stream",
     "text": [
      "생년월일을 입력하시오. 2005 1 28\n"
     ]
    },
    {
     "name": "stdout",
     "output_type": "stream",
     "text": [
      "1855번째 날입니다\n"
     ]
    }
   ],
   "source": [
    "# 2000년 1월 1일부터 날수 세기\n",
    "def julian(year,month,day):\n",
    "    if year>=2000 and year <2024:\n",
    "        jdays = 0\n",
    "\n",
    "        for y in range(2000,year): #윤년 계산\n",
    "            if y%4 ==0 and y%100 !=0 or y%400 ==0:\n",
    "                jdays+= 366\n",
    "            else:\n",
    "                jdays+= 365\n",
    "        \n",
    "        for m in range(1,month):\n",
    "            if m ==4 or m==6 or m==9 or m==11: #30일인 달을 모은 것.\n",
    "                jdays = jdays + 30\n",
    "            elif m== 2:\n",
    "                if year%4 ==0 and year%100 !=0 or year%400 ==0:\n",
    "                    jdays = jdays + 29\n",
    "                else:\n",
    "                    jdays = jdays + 28\n",
    "            else:\n",
    "                jdays = jdays + 31\n",
    "        jdays += day #지정한 달의 일수\n",
    "        return jdays\n",
    "    else:\n",
    "        return -999\n",
    "    \n",
    "a,b,c = map(int,input(\"생년월일을 입력하시오.\").split())        \n",
    "days=julian(a,b,c) #jdays의 값이 됨.\n",
    "print(\"{}번째 날입니다\".format(days))\n",
    "\n",
    "#year의 범위가 포함되어있어서.함수를 짜놓으면 할때마다 바꿀 필요 없다\n"
   ]
  },
  {
   "cell_type": "markdown",
   "id": "d36a6d8f-e466-436b-8499-3102ee4e8f3b",
   "metadata": {},
   "source": [
    "class 연습"
   ]
  },
  {
   "cell_type": "code",
   "execution_count": 50,
   "id": "146abc7a-1be8-44a7-92d3-e23959f47813",
   "metadata": {},
   "outputs": [
    {
     "name": "stdout",
     "output_type": "stream",
     "text": [
      "(20, 60)\n"
     ]
    }
   ],
   "source": [
    "class Vector2D: # 그냥 스칼라 값임\n",
    "    def __init__(self, x, y): #self가 a임.\n",
    "        self.x = x\n",
    "        self.y = y\n",
    "\n",
    "    def mult(self,other):\n",
    "        return self.x*other.x, self.y*other.y \n",
    "\n",
    "    def __str__(self):\n",
    "        return \"({},{})\".format(self.x, self.y)\n",
    "\n",
    "\n",
    "def vect_mul(v1,v2): \n",
    "    v3 = v1.mult(v2) #mult는 곱하깅를 부름 즉 클래스변수도 알아서 잘 부름. self=v1,input인 v2가 other.\n",
    "    return v3\n",
    "    \n",
    "a = Vector2D(10, 20) #Vector2D라는 클래스 변수를 사용. init로 들어감.\n",
    "b = Vector2D(2, 3)\n",
    "\n",
    "\n",
    "print(vect_mul(a,b)) #str를 부름.?"
   ]
  },
  {
   "cell_type": "code",
   "execution_count": 2,
   "id": "6d9d79cf-0334-493a-a9e1-6fe4a2583e8e",
   "metadata": {},
   "outputs": [
    {
     "name": "stdout",
     "output_type": "stream",
     "text": [
      "(20, 60)\n"
     ]
    },
    {
     "data": {
      "text/plain": [
       "'vect_mul(a,b)는 def vect_mul(v1,v2)이 함수를 부르며 def vect_mul(a,b)로 입력이 됨.\\nv3 = v1.mult(v2)의 식은 class Vector2D에 입력되어있는 def mult(self,other) 함수를 부름.\\ndef mult(a,b)로 입력되어 return a.x*b.x, a.y*b.y 로 계산됨. 그리고 그 결과 값을 v3으로 return.'"
      ]
     },
     "execution_count": 2,
     "metadata": {},
     "output_type": "execute_result"
    }
   ],
   "source": [
    "#과제\n",
    "#한 줄 씩 설명, 어떤 변수가 들어가는지 적어라.\n",
    "class Vector2D: # 그냥 스칼라 값임\n",
    "    def __init__(self, x, y): #self가 a임.\n",
    "        self.x = x\n",
    "        self.y = y\n",
    "\n",
    "    def mult(self,other):\n",
    "        return self.x*other.x, self.y*other.y \n",
    "\n",
    "    def __str__(self):\n",
    "        return \"({},{})\".format(self.x, self.y)\n",
    "\n",
    "\n",
    "def vect_mul(v1,v2): \n",
    "    v3 = v1.mult(v2) #mult는 곱하깅를 부름 즉 클래스변수도 알아서 잘 부름. self=v1,input인 v2가 other.\n",
    "    return v3        # v1.x*v2.x, v1.y*n2.y의 식이 형성됨\n",
    "    \n",
    "a = Vector2D(10, 20) #Vector2D라는 클래스 변수를 사용. init로 들어감.\n",
    "#class Vector2D를 불러서 def __init__(a, 10, 20)이 입력됨\n",
    "#a.x = 10, a.y = 20으로 저장됨.\n",
    "\n",
    "b = Vector2D(2, 3)\n",
    "#class Vector2D를 불러서 def __init__(b, 2, 3)이 입력됨\n",
    "#b.x = 2, b.y = 3으로 저장됨.\n",
    "\n",
    "print(vect_mul(a,b)) #str를 부름.?\n",
    "#vect_mul(a,b)는 def vect_mul(v1,v2)이 함수를 부르며 def vect_mul(a,b)로 입력이 됨.\n",
    "#v3 = v1.mult(v2)의 식은 class Vector2D에 입력되어있는 def mult(self,other) 함수를 부름.\n",
    "#def mult(a,b)로 입력되어 return a.x*b.x, a.y*b.y 로 계산됨. 그리고 그 결과 값을 v3으로 return.\n",
    "#따라서 10*2, 20*3의 결과값이 출력됨.\n"
   ]
  },
  {
   "cell_type": "code",
   "execution_count": null,
   "id": "cde1a53e-4407-4f46-ae95-4747687fb4b0",
   "metadata": {},
   "outputs": [],
   "source": []
  }
 ],
 "metadata": {
  "kernelspec": {
   "display_name": "Python 3 (ipykernel)",
   "language": "python",
   "name": "python3"
  },
  "language_info": {
   "codemirror_mode": {
    "name": "ipython",
    "version": 3
   },
   "file_extension": ".py",
   "mimetype": "text/x-python",
   "name": "python",
   "nbconvert_exporter": "python",
   "pygments_lexer": "ipython3",
   "version": "3.11.7"
  }
 },
 "nbformat": 4,
 "nbformat_minor": 5
}
