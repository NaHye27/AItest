{
 "cells": [
  {
   "cell_type": "code",
   "execution_count": 35,
   "id": "3e2ff2d1-dad6-49c6-b7e4-4b69b2613d9b",
   "metadata": {},
   "outputs": [
    {
     "name": "stdout",
     "output_type": "stream",
     "text": [
      "5\n"
     ]
    }
   ],
   "source": [
    "#c=add(a,b) 함수 짜기\n",
    "#\n",
    "\n",
    "def Add(a,b):\n",
    "    return a+b\n",
    "\n",
    "c = Add(2,3)\n",
    "print(c)"
   ]
  },
  {
   "cell_type": "code",
   "execution_count": 6,
   "id": "71bdfd8d-a5c9-48ae-aa60-b0764288217d",
   "metadata": {},
   "outputs": [
    {
     "name": "stdin",
     "output_type": "stream",
     "text": [
      "3개의 수를 입력하세요:  20 50 40\n"
     ]
    },
    {
     "name": "stdout",
     "output_type": "stream",
     "text": [
      "리스트 원소들 중 최댓값: 50\n"
     ]
    }
   ],
   "source": [
    "#세개 정수 입력 받아 최댓값\n",
    "def imax(a,b,c):\n",
    "    l_max=0\n",
    "    for i in n_list:\n",
    "        if i>l_max:\n",
    "            l_max=i\n",
    "\n",
    "a,b,c=map(int,input('3개의 수를 입력하세요: ').split())\n",
    "imax(a,b,c)\n",
    "print('리스트 원소들 중 최댓값:',l_max)\n"
   ]
  },
  {
   "cell_type": "code",
   "execution_count": 11,
   "id": "ed721e35-fe48-4fa1-88e3-a5da87a6d2e4",
   "metadata": {},
   "outputs": [
    {
     "name": "stdin",
     "output_type": "stream",
     "text": [
      "정수를 입력하세요:  45 15 22 88\n"
     ]
    },
    {
     "name": "stdout",
     "output_type": "stream",
     "text": [
      "리스트 원소들 중 최댓값: 50\n"
     ]
    }
   ],
   "source": [
    "#입력 수 제한 없이 근데 오류남 샹\n",
    "def imax(*n_list): \n",
    "    l_max=n_list[0]\n",
    "    for i in n_list:\n",
    "        if i>l_max:\n",
    "            l_max=i\n",
    "\n",
    "n_list=list(map(int,input('정수를 입력하세요: ').split()))\n",
    "imax(n_list)\n",
    "print('리스트 원소들 중 최댓값:',l_max)"
   ]
  },
  {
   "cell_type": "code",
   "execution_count": null,
   "id": "38719efd-7aa9-402c-979c-e577a596a6d6",
   "metadata": {},
   "outputs": [],
   "source": [
    "# 세개 정수 최댓값 교수님 버전\n",
    "def imax(a,b,c):\n",
    "    max_value = a\n",
    "    if b>max_value: max_value = b\n",
    "    if c>max_value: max_value = c\n",
    "\n",
    "    return max_value"
   ]
  },
  {
   "cell_type": "code",
   "execution_count": 10,
   "id": "95812961-670e-44db-9f8d-7ad90a0185dd",
   "metadata": {},
   "outputs": [
    {
     "name": "stdout",
     "output_type": "stream",
     "text": [
      "56\n"
     ]
    }
   ],
   "source": [
    "def imax(*a): \n",
    "    max_value = a[0]\n",
    "    for i in a:\n",
    "        if i > max_value:  max_value = i\n",
    "\n",
    "    return max_value\n",
    "\n",
    "print(imax(45, 56, 25, 12))"
   ]
  },
  {
   "cell_type": "code",
   "execution_count": 30,
   "id": "355a1414-072a-45bc-83b6-70f4ffecb7af",
   "metadata": {},
   "outputs": [
    {
     "name": "stdout",
     "output_type": "stream",
     "text": [
      "이름은 영호, 나이는 28세, 성별은 남자 입니다.\n",
      "이름은 나혜, 나이는 22세, 성별은 여자 입니다.\n"
     ]
    }
   ],
   "source": [
    "#Class 연습\n",
    "class human:\n",
    "    def __init__(self, name, age, sex):\n",
    "        self.name = name\n",
    "        self.age = age\n",
    "        self.sex = sex\n",
    "\n",
    "    def __str__(self):\n",
    "        return ( '이름은 {}, 나이는 {}세, 성별은 {} 입니다.'.format(self.name, self.age, self.sex))\n",
    "\n",
    "class setInfo(human):\n",
    "    def __init__(self, name, age, sex):\n",
    "        self.name = name\n",
    "        self.age = age\n",
    "        self.sex = sex\n",
    "\n",
    "noah = human(\"영호\", 28, \"남자\")\n",
    "print(noah)\n",
    "\n",
    "noah = setInfo(\"나혜\", 22, \"여자\")\n",
    "print(noah)"
   ]
  },
  {
   "cell_type": "code",
   "execution_count": 33,
   "id": "f53126f0-a7e1-4a06-a1b2-cbcc6470b0ec",
   "metadata": {},
   "outputs": [
    {
     "name": "stdout",
     "output_type": "stream",
     "text": [
      "나혜의 죽음을 알리지마라.\n",
      "이름은 영호, 나이는 28세, 성별은 남자 입니다.\n",
      "이름은 나혜, 나이는 22세, 성별은 여자 입니다.\n",
      "나혜의 죽음을 알리지마라.\n"
     ]
    }
   ],
   "source": [
    "#Class 연습 수정본\n",
    "class human:\n",
    "    def __init__(self, name, age, sex):\n",
    "        self.name = name\n",
    "        self.age = age\n",
    "        self.sex = sex\n",
    "\n",
    "    def __str__(self):\n",
    "        return ( '이름은 {}, 나이는 {}세, 성별은 {} 입니다.'.format(self.name, self.age, self.sex))\n",
    "\n",
    "    def setInfo(self, name, age, sex):\n",
    "        self.name = name\n",
    "        self.age = age\n",
    "        self.sex = sex\n",
    "\n",
    "    def __del__(self):\n",
    "        print(\"{}의 죽음을 알리지마라.\".format(self.name))\n",
    "\n",
    "noah = human(\"영호\", 28, \"남자\")\n",
    "print(noah)\n",
    "\n",
    "noah.setInfo(\"나혜\", 22, \"여자\")\n",
    "print(noah)\n",
    "\n",
    "del(noah)"
   ]
  },
  {
   "cell_type": "code",
   "execution_count": 2,
   "id": "379041f3-fa80-4b82-b45c-09251194a928",
   "metadata": {},
   "outputs": [
    {
     "name": "stdout",
     "output_type": "stream",
     "text": [
      "4 + 6i\n",
      "-2 + -2i\n",
      "-5 + 10i\n",
      "0.44 + 0.08i\n"
     ]
    }
   ],
   "source": [
    "#복소수 변수 더하기 빼기 나누기 곱하기..?\n",
    "class comx:\n",
    "    def __init__(self, x, y):\n",
    "        self.real = x\n",
    "        self.imag = y\n",
    "    def __add__(self,b):\n",
    "        return comx(self.real + b.real, self.imag + b.imag)\n",
    "    def __sub__(self,b):\n",
    "        return comx(self.real - b.real, self.imag - b.imag)\n",
    "    def __mul__(self,b):\n",
    "        return comx(self.real * b.real-self.imag * b.imag, self.imag * b.real + self.real * b.imag)\n",
    "    def __truediv__(self,b):\n",
    "        denominator = b.real ** 2 + b.imag ** 2\n",
    "        numerator = self * comx(b.real, -b.imag)\n",
    "        return comx(numerator.real / denominator, numerator.imag / denominator)\n",
    "\n",
    "    def __str__(self):\n",
    "        return f\"{self.real} + {self.imag}i\"\n",
    "\n",
    "a = comx(1,2)\n",
    "b = comx(3,4)\n",
    "\n",
    "c = a + b\n",
    "d = a - b\n",
    "e = a * b\n",
    "f = a / b\n",
    "\n",
    "print(c)\n",
    "print(d)\n",
    "print(e)\n",
    "print(f)"
   ]
  },
  {
   "cell_type": "code",
   "execution_count": 3,
   "id": "64293828-7828-4067-a000-8e33e0176a2c",
   "metadata": {},
   "outputs": [
    {
     "name": "stdout",
     "output_type": "stream",
     "text": [
      "4 + 6i\n",
      "-2 + -2i\n",
      "-5 + 10i\n",
      "0.44 + 0.08i\n"
     ]
    }
   ],
   "source": [
    "class comx:\n",
    "    def __init__(self, x, y):\n",
    "        self.real = x\n",
    "        self.imag = y\n",
    "\n",
    "    def __add__(self, b):\n",
    "        return comx(self.real + b.real, self.imag + b.imag)\n",
    "\n",
    "    def __sub__(self, b):\n",
    "        return comx(self.real - b.real, self.imag - b.imag)\n",
    "\n",
    "    def __mul__(self, b):\n",
    "        return comx(self.real * b.real - self.imag * b.imag, self.imag * b.real + self.real * b.imag)\n",
    "\n",
    "    def __truediv__(self, b):\n",
    "        denominator = b.real ** 2 + b.imag ** 2\n",
    "        numerator_real = self.real * b.real + self.imag * b.imag\n",
    "        numerator_imag = self.imag * b.real - self.real * b.imag\n",
    "        return comx(numerator_real / denominator, numerator_imag / denominator)\n",
    "\n",
    "    def __str__(self):\n",
    "        return f\"{self.real} + {self.imag}i\"\n",
    "\n",
    "a = comx(1, 2)\n",
    "b = comx(3, 4)\n",
    "\n",
    "c = a + b\n",
    "d = a - b\n",
    "e = a * b\n",
    "f = a / b\n",
    "\n",
    "print(c)\n",
    "print(d)\n",
    "print(e)\n",
    "print(f)\n"
   ]
  },
  {
   "cell_type": "code",
   "execution_count": null,
   "id": "5c73777c",
   "metadata": {},
   "outputs": [],
   "source": []
  }
 ],
 "metadata": {
  "kernelspec": {
   "display_name": "Python 3 (ipykernel)",
   "language": "python",
   "name": "python3"
  },
  "language_info": {
   "codemirror_mode": {
    "name": "ipython",
    "version": 3
   },
   "file_extension": ".py",
   "mimetype": "text/x-python",
   "name": "python",
   "nbconvert_exporter": "python",
   "pygments_lexer": "ipython3",
   "version": "3.11.7"
  }
 },
 "nbformat": 4,
 "nbformat_minor": 5
}
