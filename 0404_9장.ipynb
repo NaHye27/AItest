{
 "cells": [
  {
   "cell_type": "code",
   "execution_count": 2,
   "id": "3f11e193-0b53-4ac6-9b44-5f4117348b26",
   "metadata": {},
   "outputs": [
    {
     "name": "stdout",
     "output_type": "stream",
     "text": [
      "내이름은 나비, 색깔은 검정색, 야옹 야옹~~\n",
      "내이름은 네로, 색깔은 흰색, 야옹 야옹~~\n",
      "내이름은 미미, 색깔은 갈색, 야옹 야옹~~\n"
     ]
    }
   ],
   "source": [
    "#무조건 이해하기.\n",
    "class Cat:\n",
    "    def __init__(self, name, color='흰색'): #이름만 입력하면 색은 흰색으로 지정되게.\n",
    "        self.name = name # name이라는 인스턴스 변수를 생성\n",
    "        self.color = color\n",
    "\n",
    "    def meow(self): #고양이 정보 출력.\n",
    "        print('내이름은 {}, 색깔은 {}, 야옹 야옹~~'.format(self.name, self.color))\n",
    "\n",
    "  \n",
    "\n",
    "nabi = Cat('나비', '검정색') # nabi 인스턴스 생성\n",
    "nero = Cat('네로', '흰색') # nero 인스턴스 생성\n",
    "mimi = Cat('미미', '갈색') # mini 인스턴스 생성\n",
    "\n",
    "nabi.meow()\n",
    "nero.meow()\n",
    "mimi.meow()\n",
    "\n"
   ]
  },
  {
   "cell_type": "code",
   "execution_count": 3,
   "id": "70a458df-117d-4feb-b656-97ef08a7d5ad",
   "metadata": {},
   "outputs": [
    {
     "name": "stdout",
     "output_type": "stream",
     "text": [
      "Cat(name=나비, color=검정색)\n",
      "Cat(name=네로, color=흰색)\n"
     ]
    }
   ],
   "source": [
    "#\t__str__\t메소드\n",
    "class Cat:\n",
    "    def __init__(self, name, color):\n",
    "        self.name = name\n",
    "        self.color = color\n",
    "                            # Cat 객체의 문자열 표현방식\n",
    "    def __str__(self):\n",
    "        return 'Cat(name='+self.name+', color='+self.color+')'\n",
    "        \n",
    "nabi = Cat('나비', '검정색') # nabi 인스턴스 생성\n",
    "nero = Cat('네로', '흰색') # nero 인스턴스 생성\n",
    "print(nabi)\n",
    "print(nero)"
   ]
  },
  {
   "cell_type": "code",
   "execution_count": 4,
   "id": "85fb11a2-fc7e-4666-af33-5935c32b133d",
   "metadata": {
    "scrolled": true
   },
   "outputs": [
    {
     "name": "stdout",
     "output_type": "stream",
     "text": [
      "Cat(name=나비, age=3)\n",
      "Cat(name=나비, age=4)\n"
     ]
    }
   ],
   "source": [
    "#캡슐화 -> self.__를 붙이면 됨 한개는 의미없다.\n",
    "class Cat:\n",
    "    def __init__(self, name, age):\n",
    "        self.__name = name #언더스코어 두 개.\n",
    "        self.__age = age\n",
    "\n",
    "    def __str__(self):\n",
    "        return 'Cat(name='+self.__name+', age='+str(self.__age)+')'\n",
    "\n",
    "    def set_age(self, age):\n",
    "        if age > 0:\n",
    "            self.__age = age\n",
    "    def get_age(self):\n",
    "        return self.__age\n",
    "        \n",
    "nabi = Cat('나비', 3) # nabi 인스턴스 생성\n",
    "print(nabi)\n",
    "nabi.set_age(4) # set_age() 메소드를 통해서 age에 접근\n",
    "nabi.set_age(-5) # set_age() 메소드를 통해서 age가 음수가 되지 않도록 함\n",
    "print(nabi)"
   ]
  },
  {
   "cell_type": "code",
   "execution_count": 8,
   "id": "764469a1-3aae-4d92-be5d-a6a37df666b7",
   "metadata": {},
   "outputs": [
    {
     "name": "stdout",
     "output_type": "stream",
     "text": [
      "Cat(name=나비, age=3)\n",
      "Cat(name=나비, age=3)\n"
     ]
    }
   ],
   "source": [
    "#캡슐화에서 음수값을 넣었을 때 나오게 하려 코드 수정\n",
    "class Cat:\n",
    "    def __init__(self, name, age):\n",
    "        self.__name = name\n",
    "        self.__age = age\n",
    "\n",
    "    def __str__(self):\n",
    "        return 'Cat(name='+self.__name+', age='+str(self.__age)+')'\n",
    "\n",
    "    def set_age(self, age):\n",
    "        if age > 0:\n",
    "            self.__age = age\n",
    "    def get_age(self):\n",
    "        return self.__age\n",
    "        \n",
    "nabi = Cat('나비', 3) # nabi 인스턴스 생성\n",
    "print(nabi)\n",
    "nabi.set_age(-4) # set_age() 메소드를 통해서 age에 접근\n",
    "nabi.set_age(-5) # set_age() 메소드를 통해서 age가 음수가 되지 않도록 함,동작을 안함.\n",
    "print(nabi)\n",
    "\n",
    "#한결 같이 값은 그냥 3만 나옴."
   ]
  },
  {
   "cell_type": "code",
   "execution_count": 10,
   "id": "7123183e-7608-441d-8a54-faf2ddf5c77a",
   "metadata": {},
   "outputs": [
    {
     "name": "stdout",
     "output_type": "stream",
     "text": [
      "v1 * v2 = (300, 800)\n"
     ]
    }
   ],
   "source": [
    "# 내적 코딩\n",
    "class Vector2D:\n",
    "    def __init__(self, x, y):\n",
    "        self.x = x\n",
    "        self.y = y\n",
    "\n",
    "    def __mul__(self,other):\n",
    "        return self.x*other.x,self.y*other.y\n",
    "\n",
    "    def \n",
    "\n",
    "v1 = Vector2D(30, 40)\n",
    "v2 = Vector2D(10, 20)\n",
    "v3 = v1 * v2\n",
    "\n",
    "print('v1 * v2 =', v3)"
   ]
  },
  {
   "cell_type": "code",
   "execution_count": 16,
   "id": "d270f07e-908d-4b90-819b-b60e7e77b2b1",
   "metadata": {},
   "outputs": [
    {
     "name": "stdout",
     "output_type": "stream",
     "text": [
      "(30, 40)\n",
      "(10, 20)\n",
      "(30, 40)*(10, 20)=1100\n"
     ]
    }
   ],
   "source": [
    "class Vector2D: # 그냥 스칼라 값임\n",
    "    def __init__(self, x, y):\n",
    "        self.__x=x\n",
    "        self.__y=y\n",
    "\n",
    "    def __str__(self):\n",
    "        return'({}, {})'.format(self.__x,self.__y)\n",
    "\n",
    "    def __mul__(self,other):\n",
    "        return self.__x*other.__x+self.__y*other.__y # 연결을 +로\n",
    "\n",
    "v1 = Vector2D(30, 40)\n",
    "print(v1)\n",
    "\n",
    "v2 = Vector2D(10, 20)\n",
    "print(v2)\n",
    "\n",
    "\n",
    "print('{}*{}={}'.format(v1,v2,v1*v2))\n"
   ]
  },
  {
   "cell_type": "code",
   "execution_count": 20,
   "id": "7adaea19-bde5-49e6-a196-83cfc568e448",
   "metadata": {},
   "outputs": [
    {
     "name": "stdout",
     "output_type": "stream",
     "text": [
      "(30, 40)\n",
      "(10, 20)\n",
      "(30, 40)\n"
     ]
    }
   ],
   "source": [
    "# 넓이 값 비교\n",
    "class Vector2D: \n",
    "    def __init__(self, x, y):    \n",
    "        self.__x=x\n",
    "        self.__y=y\n",
    "    \n",
    "    def __str__(self):\n",
    "        return'({}, {})'.format(self.__x,self.__y)\n",
    "    \n",
    "    def __mul__(self,other):\n",
    "        return self.__x*other.__x+self.__y*other.__y\n",
    "    \n",
    "    def __gt__(self,other): #부등호이고 이거 자체가 트루 펄스임.\n",
    "        return self.__x**2+self.__y**2>other.__x**2+other.__y**2\n",
    "        # 백터 크기 비교\n",
    "\n",
    "v1 = Vector2D(30, 40)\n",
    "print(v1)\n",
    "\n",
    "v2 = Vector2D(10, 20)\n",
    "print(v2)\n",
    "\n",
    "if v1>v2:\n",
    "    print(v1)\n",
    "else:\n",
    "    print(v2)"
   ]
  },
  {
   "cell_type": "code",
   "execution_count": null,
   "id": "e66b55fc-e0fe-4b98-9022-c939dffc2be7",
   "metadata": {},
   "outputs": [],
   "source": []
  }
 ],
 "metadata": {
  "kernelspec": {
   "display_name": "Python 3 (ipykernel)",
   "language": "python",
   "name": "python3"
  },
  "language_info": {
   "codemirror_mode": {
    "name": "ipython",
    "version": 3
   },
   "file_extension": ".py",
   "mimetype": "text/x-python",
   "name": "python",
   "nbconvert_exporter": "python",
   "pygments_lexer": "ipython3",
   "version": "3.11.7"
  }
 },
 "nbformat": 4,
 "nbformat_minor": 5
}
